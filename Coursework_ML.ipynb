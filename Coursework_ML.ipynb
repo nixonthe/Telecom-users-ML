{
  "nbformat": 4,
  "nbformat_minor": 0,
  "metadata": {
    "colab": {
      "name": "Coursework_ML.ipynb",
      "provenance": [],
      "collapsed_sections": []
    },
    "kernelspec": {
      "display_name": "Python 3",
      "language": "python",
      "name": "python3"
    },
    "language_info": {
      "codemirror_mode": {
        "name": "ipython",
        "version": 3
      },
      "file_extension": ".py",
      "mimetype": "text/x-python",
      "name": "python",
      "nbconvert_exporter": "python",
      "pygments_lexer": "ipython3",
      "version": "3.6.3"
    }
  },
  "cells": [
    {
      "cell_type": "markdown",
      "metadata": {
        "colab_type": "text",
        "id": "sIRCLuWGVYR9"
      },
      "source": [
        "# 1. Описание данных"
      ]
    },
    {
      "cell_type": "code",
      "metadata": {
        "colab_type": "code",
        "id": "s0fDRVkgVYSA",
        "colab": {
          "base_uri": "https://localhost:8080/",
          "height": 309
        },
        "outputId": "c1aaa265-a0ae-46b7-8eb4-53b3996c8c5b"
      },
      "source": [
        "import pandas as pd\n",
        "\n",
        "df = pd.read_csv('telecom_users.csv')\n",
        "df = df.drop(columns='Unnamed: 0')\n",
        "\n",
        "df.head()"
      ],
      "execution_count": 1,
      "outputs": [
        {
          "output_type": "execute_result",
          "data": {
            "text/html": [
              "<div>\n",
              "<style scoped>\n",
              "    .dataframe tbody tr th:only-of-type {\n",
              "        vertical-align: middle;\n",
              "    }\n",
              "\n",
              "    .dataframe tbody tr th {\n",
              "        vertical-align: top;\n",
              "    }\n",
              "\n",
              "    .dataframe thead th {\n",
              "        text-align: right;\n",
              "    }\n",
              "</style>\n",
              "<table border=\"1\" class=\"dataframe\">\n",
              "  <thead>\n",
              "    <tr style=\"text-align: right;\">\n",
              "      <th></th>\n",
              "      <th>customerID</th>\n",
              "      <th>gender</th>\n",
              "      <th>SeniorCitizen</th>\n",
              "      <th>Partner</th>\n",
              "      <th>Dependents</th>\n",
              "      <th>tenure</th>\n",
              "      <th>PhoneService</th>\n",
              "      <th>MultipleLines</th>\n",
              "      <th>InternetService</th>\n",
              "      <th>OnlineSecurity</th>\n",
              "      <th>OnlineBackup</th>\n",
              "      <th>DeviceProtection</th>\n",
              "      <th>TechSupport</th>\n",
              "      <th>StreamingTV</th>\n",
              "      <th>StreamingMovies</th>\n",
              "      <th>Contract</th>\n",
              "      <th>PaperlessBilling</th>\n",
              "      <th>PaymentMethod</th>\n",
              "      <th>MonthlyCharges</th>\n",
              "      <th>TotalCharges</th>\n",
              "      <th>Churn</th>\n",
              "    </tr>\n",
              "  </thead>\n",
              "  <tbody>\n",
              "    <tr>\n",
              "      <th>0</th>\n",
              "      <td>7010-BRBUU</td>\n",
              "      <td>Male</td>\n",
              "      <td>0</td>\n",
              "      <td>Yes</td>\n",
              "      <td>Yes</td>\n",
              "      <td>72</td>\n",
              "      <td>Yes</td>\n",
              "      <td>Yes</td>\n",
              "      <td>No</td>\n",
              "      <td>No internet service</td>\n",
              "      <td>No internet service</td>\n",
              "      <td>No internet service</td>\n",
              "      <td>No internet service</td>\n",
              "      <td>No internet service</td>\n",
              "      <td>No internet service</td>\n",
              "      <td>Two year</td>\n",
              "      <td>No</td>\n",
              "      <td>Credit card (automatic)</td>\n",
              "      <td>24.10</td>\n",
              "      <td>1734.65</td>\n",
              "      <td>No</td>\n",
              "    </tr>\n",
              "    <tr>\n",
              "      <th>1</th>\n",
              "      <td>9688-YGXVR</td>\n",
              "      <td>Female</td>\n",
              "      <td>0</td>\n",
              "      <td>No</td>\n",
              "      <td>No</td>\n",
              "      <td>44</td>\n",
              "      <td>Yes</td>\n",
              "      <td>No</td>\n",
              "      <td>Fiber optic</td>\n",
              "      <td>No</td>\n",
              "      <td>Yes</td>\n",
              "      <td>Yes</td>\n",
              "      <td>No</td>\n",
              "      <td>Yes</td>\n",
              "      <td>No</td>\n",
              "      <td>Month-to-month</td>\n",
              "      <td>Yes</td>\n",
              "      <td>Credit card (automatic)</td>\n",
              "      <td>88.15</td>\n",
              "      <td>3973.2</td>\n",
              "      <td>No</td>\n",
              "    </tr>\n",
              "    <tr>\n",
              "      <th>2</th>\n",
              "      <td>9286-DOJGF</td>\n",
              "      <td>Female</td>\n",
              "      <td>1</td>\n",
              "      <td>Yes</td>\n",
              "      <td>No</td>\n",
              "      <td>38</td>\n",
              "      <td>Yes</td>\n",
              "      <td>Yes</td>\n",
              "      <td>Fiber optic</td>\n",
              "      <td>No</td>\n",
              "      <td>No</td>\n",
              "      <td>No</td>\n",
              "      <td>No</td>\n",
              "      <td>No</td>\n",
              "      <td>No</td>\n",
              "      <td>Month-to-month</td>\n",
              "      <td>Yes</td>\n",
              "      <td>Bank transfer (automatic)</td>\n",
              "      <td>74.95</td>\n",
              "      <td>2869.85</td>\n",
              "      <td>Yes</td>\n",
              "    </tr>\n",
              "    <tr>\n",
              "      <th>3</th>\n",
              "      <td>6994-KERXL</td>\n",
              "      <td>Male</td>\n",
              "      <td>0</td>\n",
              "      <td>No</td>\n",
              "      <td>No</td>\n",
              "      <td>4</td>\n",
              "      <td>Yes</td>\n",
              "      <td>No</td>\n",
              "      <td>DSL</td>\n",
              "      <td>No</td>\n",
              "      <td>No</td>\n",
              "      <td>No</td>\n",
              "      <td>No</td>\n",
              "      <td>No</td>\n",
              "      <td>Yes</td>\n",
              "      <td>Month-to-month</td>\n",
              "      <td>Yes</td>\n",
              "      <td>Electronic check</td>\n",
              "      <td>55.90</td>\n",
              "      <td>238.5</td>\n",
              "      <td>No</td>\n",
              "    </tr>\n",
              "    <tr>\n",
              "      <th>4</th>\n",
              "      <td>2181-UAESM</td>\n",
              "      <td>Male</td>\n",
              "      <td>0</td>\n",
              "      <td>No</td>\n",
              "      <td>No</td>\n",
              "      <td>2</td>\n",
              "      <td>Yes</td>\n",
              "      <td>No</td>\n",
              "      <td>DSL</td>\n",
              "      <td>Yes</td>\n",
              "      <td>No</td>\n",
              "      <td>Yes</td>\n",
              "      <td>No</td>\n",
              "      <td>No</td>\n",
              "      <td>No</td>\n",
              "      <td>Month-to-month</td>\n",
              "      <td>No</td>\n",
              "      <td>Electronic check</td>\n",
              "      <td>53.45</td>\n",
              "      <td>119.5</td>\n",
              "      <td>No</td>\n",
              "    </tr>\n",
              "  </tbody>\n",
              "</table>\n",
              "</div>"
            ],
            "text/plain": [
              "   customerID  gender  SeniorCitizen  ... MonthlyCharges TotalCharges  Churn\n",
              "0  7010-BRBUU    Male              0  ...          24.10      1734.65     No\n",
              "1  9688-YGXVR  Female              0  ...          88.15       3973.2     No\n",
              "2  9286-DOJGF  Female              1  ...          74.95      2869.85    Yes\n",
              "3  6994-KERXL    Male              0  ...          55.90        238.5     No\n",
              "4  2181-UAESM    Male              0  ...          53.45        119.5     No\n",
              "\n",
              "[5 rows x 21 columns]"
            ]
          },
          "metadata": {
            "tags": []
          },
          "execution_count": 1
        }
      ]
    },
    {
      "cell_type": "code",
      "metadata": {
        "id": "0UrIjVBQvyIP",
        "colab_type": "code",
        "colab": {
          "base_uri": "https://localhost:8080/",
          "height": 493
        },
        "outputId": "6a24288c-9b23-4a58-90c5-b23247f0a878"
      },
      "source": [
        "df.info()"
      ],
      "execution_count": 2,
      "outputs": [
        {
          "output_type": "stream",
          "text": [
            "<class 'pandas.core.frame.DataFrame'>\n",
            "RangeIndex: 5986 entries, 0 to 5985\n",
            "Data columns (total 21 columns):\n",
            " #   Column            Non-Null Count  Dtype  \n",
            "---  ------            --------------  -----  \n",
            " 0   customerID        5986 non-null   object \n",
            " 1   gender            5986 non-null   object \n",
            " 2   SeniorCitizen     5986 non-null   int64  \n",
            " 3   Partner           5986 non-null   object \n",
            " 4   Dependents        5986 non-null   object \n",
            " 5   tenure            5986 non-null   int64  \n",
            " 6   PhoneService      5986 non-null   object \n",
            " 7   MultipleLines     5986 non-null   object \n",
            " 8   InternetService   5986 non-null   object \n",
            " 9   OnlineSecurity    5986 non-null   object \n",
            " 10  OnlineBackup      5986 non-null   object \n",
            " 11  DeviceProtection  5986 non-null   object \n",
            " 12  TechSupport       5986 non-null   object \n",
            " 13  StreamingTV       5986 non-null   object \n",
            " 14  StreamingMovies   5986 non-null   object \n",
            " 15  Contract          5986 non-null   object \n",
            " 16  PaperlessBilling  5986 non-null   object \n",
            " 17  PaymentMethod     5986 non-null   object \n",
            " 18  MonthlyCharges    5986 non-null   float64\n",
            " 19  TotalCharges      5986 non-null   object \n",
            " 20  Churn             5986 non-null   object \n",
            "dtypes: float64(1), int64(2), object(18)\n",
            "memory usage: 982.2+ KB\n"
          ],
          "name": "stdout"
        }
      ]
    },
    {
      "cell_type": "markdown",
      "metadata": {
        "id": "7x0aqtQJ32GP",
        "colab_type": "text"
      },
      "source": [
        "Можно заметить, что данные нуждаются в доп обработке. Нужно перевести бинарные ответы в числовой формат и поменять строковые значения на числовой формат."
      ]
    },
    {
      "cell_type": "code",
      "metadata": {
        "id": "O0qqMUeswQu8",
        "colab_type": "code",
        "colab": {
          "base_uri": "https://localhost:8080/",
          "height": 493
        },
        "outputId": "1912af70-b606-485f-f2b3-564f472cd85e"
      },
      "source": [
        "from sklearn.preprocessing import LabelEncoder\n",
        "\n",
        "# сначала заменим бинарные ответы\n",
        "proc_list = ['gender', 'Partner', 'Dependents', 'PhoneService', 'MultipleLines',\n",
        "            'InternetService', 'OnlineSecurity', 'OnlineBackup',\n",
        "            'DeviceProtection', 'TechSupport', 'StreamingTV', 'StreamingMovies',\n",
        "            'Contract', 'PaperlessBilling', 'PaymentMethod', 'Churn']\n",
        "\n",
        "for col in proc_list:\n",
        "  df[col] = LabelEncoder().fit_transform(df[col])\n",
        "\n",
        "# затем изменим тип столбика\n",
        "df['TotalCharges'] = pd.to_numeric(df['TotalCharges'], errors='coerce')\n",
        "\n",
        "df.info()"
      ],
      "execution_count": 3,
      "outputs": [
        {
          "output_type": "stream",
          "text": [
            "<class 'pandas.core.frame.DataFrame'>\n",
            "RangeIndex: 5986 entries, 0 to 5985\n",
            "Data columns (total 21 columns):\n",
            " #   Column            Non-Null Count  Dtype  \n",
            "---  ------            --------------  -----  \n",
            " 0   customerID        5986 non-null   object \n",
            " 1   gender            5986 non-null   int64  \n",
            " 2   SeniorCitizen     5986 non-null   int64  \n",
            " 3   Partner           5986 non-null   int64  \n",
            " 4   Dependents        5986 non-null   int64  \n",
            " 5   tenure            5986 non-null   int64  \n",
            " 6   PhoneService      5986 non-null   int64  \n",
            " 7   MultipleLines     5986 non-null   int64  \n",
            " 8   InternetService   5986 non-null   int64  \n",
            " 9   OnlineSecurity    5986 non-null   int64  \n",
            " 10  OnlineBackup      5986 non-null   int64  \n",
            " 11  DeviceProtection  5986 non-null   int64  \n",
            " 12  TechSupport       5986 non-null   int64  \n",
            " 13  StreamingTV       5986 non-null   int64  \n",
            " 14  StreamingMovies   5986 non-null   int64  \n",
            " 15  Contract          5986 non-null   int64  \n",
            " 16  PaperlessBilling  5986 non-null   int64  \n",
            " 17  PaymentMethod     5986 non-null   int64  \n",
            " 18  MonthlyCharges    5986 non-null   float64\n",
            " 19  TotalCharges      5976 non-null   float64\n",
            " 20  Churn             5986 non-null   int64  \n",
            "dtypes: float64(2), int64(18), object(1)\n",
            "memory usage: 982.2+ KB\n"
          ],
          "name": "stdout"
        }
      ]
    },
    {
      "cell_type": "markdown",
      "metadata": {
        "id": "6P9C40RT1agm",
        "colab_type": "text"
      },
      "source": [
        "Отлично получилось, но образовалось несколько Nan. Чтобы не терять данные вставим вместо Nan среднее по столбцу."
      ]
    },
    {
      "cell_type": "code",
      "metadata": {
        "id": "uEry8dxO1mGY",
        "colab_type": "code",
        "colab": {
          "base_uri": "https://localhost:8080/",
          "height": 493
        },
        "outputId": "7adc8a38-71a2-4428-e385-4976bca634e6"
      },
      "source": [
        "tc_mean = df['TotalCharges'].agg('mean')\n",
        "df = df.fillna(tc_mean)\n",
        "\n",
        "df.info()"
      ],
      "execution_count": 4,
      "outputs": [
        {
          "output_type": "stream",
          "text": [
            "<class 'pandas.core.frame.DataFrame'>\n",
            "RangeIndex: 5986 entries, 0 to 5985\n",
            "Data columns (total 21 columns):\n",
            " #   Column            Non-Null Count  Dtype  \n",
            "---  ------            --------------  -----  \n",
            " 0   customerID        5986 non-null   object \n",
            " 1   gender            5986 non-null   int64  \n",
            " 2   SeniorCitizen     5986 non-null   int64  \n",
            " 3   Partner           5986 non-null   int64  \n",
            " 4   Dependents        5986 non-null   int64  \n",
            " 5   tenure            5986 non-null   int64  \n",
            " 6   PhoneService      5986 non-null   int64  \n",
            " 7   MultipleLines     5986 non-null   int64  \n",
            " 8   InternetService   5986 non-null   int64  \n",
            " 9   OnlineSecurity    5986 non-null   int64  \n",
            " 10  OnlineBackup      5986 non-null   int64  \n",
            " 11  DeviceProtection  5986 non-null   int64  \n",
            " 12  TechSupport       5986 non-null   int64  \n",
            " 13  StreamingTV       5986 non-null   int64  \n",
            " 14  StreamingMovies   5986 non-null   int64  \n",
            " 15  Contract          5986 non-null   int64  \n",
            " 16  PaperlessBilling  5986 non-null   int64  \n",
            " 17  PaymentMethod     5986 non-null   int64  \n",
            " 18  MonthlyCharges    5986 non-null   float64\n",
            " 19  TotalCharges      5986 non-null   float64\n",
            " 20  Churn             5986 non-null   int64  \n",
            "dtypes: float64(2), int64(18), object(1)\n",
            "memory usage: 982.2+ KB\n"
          ],
          "name": "stdout"
        }
      ]
    },
    {
      "cell_type": "markdown",
      "metadata": {
        "id": "4ltrYjC43m6u",
        "colab_type": "text"
      },
      "source": [
        "Всё переведено в нужный формат. Пропущенных значений нет."
      ]
    },
    {
      "cell_type": "markdown",
      "metadata": {
        "colab_type": "text",
        "id": "TDUhZEKyVYSN"
      },
      "source": [
        "# 2. Исследование зависимостей и формулирование гипотез"
      ]
    },
    {
      "cell_type": "code",
      "metadata": {
        "colab_type": "code",
        "id": "lbekxt4hVYSQ",
        "colab": {
          "base_uri": "https://localhost:8080/",
          "height": 282
        },
        "outputId": "7dc7541b-6109-4c2d-9703-acf211557667"
      },
      "source": [
        "df.boxplot(column=['tenure', 'MonthlyCharges'])"
      ],
      "execution_count": 5,
      "outputs": [
        {
          "output_type": "execute_result",
          "data": {
            "text/plain": [
              "<matplotlib.axes._subplots.AxesSubplot at 0x7f76edadfb70>"
            ]
          },
          "metadata": {
            "tags": []
          },
          "execution_count": 5
        },
        {
          "output_type": "display_data",
          "data": {
            "image/png": "[encoded data removed]",
            "text/plain": [
              "<Figure size 432x288 with 1 Axes>"
            ]
          },
          "metadata": {
            "tags": [],
            "needs_background": "light"
          }
        }
      ]
    },
    {
      "cell_type": "code",
      "metadata": {
        "id": "1lB2qO8Q-Wsw",
        "colab_type": "code",
        "colab": {
          "base_uri": "https://localhost:8080/",
          "height": 282
        },
        "outputId": "69b8a71a-2fe6-495b-905a-e64210bcd497"
      },
      "source": [
        "df.boxplot('TotalCharges')"
      ],
      "execution_count": 6,
      "outputs": [
        {
          "output_type": "execute_result",
          "data": {
            "text/plain": [
              "<matplotlib.axes._subplots.AxesSubplot at 0x7f76edadfb38>"
            ]
          },
          "metadata": {
            "tags": []
          },
          "execution_count": 6
        },
        {
          "output_type": "display_data",
          "data": {
            "image/png": "[encoded data removed]",
            "text/plain": [
              "<Figure size 432x288 with 1 Axes>"
            ]
          },
          "metadata": {
            "tags": [],
            "needs_background": "light"
          }
        }
      ]
    },
    {
      "cell_type": "markdown",
      "metadata": {
        "id": "lKUQDShu1WtQ",
        "colab_type": "text"
      },
      "source": [
        "Числовые данные довольно ровные. Нет никаких выбросов."
      ]
    },
    {
      "cell_type": "code",
      "metadata": {
        "id": "ZKcQlA7m-mT_",
        "colab_type": "code",
        "colab": {
          "base_uri": "https://localhost:8080/",
          "height": 1000
        },
        "outputId": "e8234d62-1374-461b-8f93-3ad0053750b3"
      },
      "source": [
        "df.hist(figsize=(15,15), bins=20)"
      ],
      "execution_count": 7,
      "outputs": [
        {
          "output_type": "execute_result",
          "data": {
            "text/plain": [
              "array([[<matplotlib.axes._subplots.AxesSubplot object at 0x7f76ed55da20>,\n",
              "        <matplotlib.axes._subplots.AxesSubplot object at 0x7f76ed51c208>,\n",
              "        <matplotlib.axes._subplots.AxesSubplot object at 0x7f76ed4d1470>,\n",
              "        <matplotlib.axes._subplots.AxesSubplot object at 0x7f76ed4826d8>],\n",
              "       [<matplotlib.axes._subplots.AxesSubplot object at 0x7f76ed4b7940>,\n",
              "        <matplotlib.axes._subplots.AxesSubplot object at 0x7f76ed46bba8>,\n",
              "        <matplotlib.axes._subplots.AxesSubplot object at 0x7f76ed41ee10>,\n",
              "        <matplotlib.axes._subplots.AxesSubplot object at 0x7f76ed3df080>],\n",
              "       [<matplotlib.axes._subplots.AxesSubplot object at 0x7f76ed3df0f0>,\n",
              "        <matplotlib.axes._subplots.AxesSubplot object at 0x7f76ed349588>,\n",
              "        <matplotlib.axes._subplots.AxesSubplot object at 0x7f76ed37b7f0>,\n",
              "        <matplotlib.axes._subplots.AxesSubplot object at 0x7f76ed330a58>],\n",
              "       [<matplotlib.axes._subplots.AxesSubplot object at 0x7f76ed2e3cc0>,\n",
              "        <matplotlib.axes._subplots.AxesSubplot object at 0x7f76ed298f28>,\n",
              "        <matplotlib.axes._subplots.AxesSubplot object at 0x7f76ed2571d0>,\n",
              "        <matplotlib.axes._subplots.AxesSubplot object at 0x7f76ed20c438>],\n",
              "       [<matplotlib.axes._subplots.AxesSubplot object at 0x7f76ed1c16a0>,\n",
              "        <matplotlib.axes._subplots.AxesSubplot object at 0x7f76ed1f3908>,\n",
              "        <matplotlib.axes._subplots.AxesSubplot object at 0x7f76ed1a8b70>,\n",
              "        <matplotlib.axes._subplots.AxesSubplot object at 0x7f76ed15bdd8>]],\n",
              "      dtype=object)"
            ]
          },
          "metadata": {
            "tags": []
          },
          "execution_count": 7
        },
        {
          "output_type": "display_data",
          "data": {
            "image/png": "[encoded data removed]",
            "text/plain": [
              "<Figure size 1080x1080 with 20 Axes>"
            ]
          },
          "metadata": {
            "tags": [],
            "needs_background": "light"
          }
        }
      ]
    },
    {
      "cell_type": "code",
      "metadata": {
        "id": "PY4MZLjrD0PD",
        "colab_type": "code",
        "colab": {
          "base_uri": "https://localhost:8080/",
          "height": 723
        },
        "outputId": "846587f6-086b-48b7-bb14-94a18615facd"
      },
      "source": [
        "import seaborn as sns\n",
        "import matplotlib.pyplot as plt\n",
        "\n",
        "mtrx_corr = df.corr()\n",
        "\n",
        "plt.figure(figsize = (16, 10))\n",
        "sns.heatmap(mtrx_corr, annot=True)"
      ],
      "execution_count": 8,
      "outputs": [
        {
          "output_type": "stream",
          "text": [
            "/usr/local/lib/python3.6/dist-packages/statsmodels/tools/_testing.py:19: FutureWarning: pandas.util.testing is deprecated. Use the functions in the public API at pandas.testing instead.\n",
            "  import pandas.util.testing as tm\n"
          ],
          "name": "stderr"
        },
        {
          "output_type": "execute_result",
          "data": {
            "text/plain": [
              "<matplotlib.axes._subplots.AxesSubplot at 0x7f76ecbc4b70>"
            ]
          },
          "metadata": {
            "tags": []
          },
          "execution_count": 8
        },
        {
          "output_type": "display_data",
          "data": {
            "image/png": "[encoded data removed]",
            "text/plain": [
              "<Figure size 1152x720 with 2 Axes>"
            ]
          },
          "metadata": {
            "tags": [],
            "needs_background": "light"
          }
        }
      ]
    },
    {
      "cell_type": "markdown",
      "metadata": {
        "id": "EUg87bS0thak",
        "colab_type": "text"
      },
      "source": [
        "Видно, что наиболее сильно влияют на отток следующие признаки: SeniorCitizen, Partner, Dependents, tenure, OnlineSecurity, OnlineBackup, DeviceProtection, TechSupport, Contract, PaperlessBilling, MonthlyCharges, TotalCharges. Но так как некоторые из них коррелируют друг другом, то оставлю только следующие: Dependents, OnlineSecurity, TechSupport, SeniorCitizen, Contract, tenure, PaperlessBilling, MonthlyCharges."
      ]
    },
    {
      "cell_type": "code",
      "metadata": {
        "id": "tlGb6_nhwes5",
        "colab_type": "code",
        "colab": {
          "base_uri": "https://localhost:8080/",
          "height": 204
        },
        "outputId": "a518434e-6030-46af-ccd9-afa08a93deb0"
      },
      "source": [
        "# датасет для моделей\n",
        "data = df[\n",
        "          ['Dependents', 'OnlineSecurity', 'TechSupport', 'SeniorCitizen',\n",
        "           'Contract', 'tenure', 'PaperlessBilling', 'MonthlyCharges', 'Churn']\n",
        "          ]\n",
        "\n",
        "data.head()"
      ],
      "execution_count": 9,
      "outputs": [
        {
          "output_type": "execute_result",
          "data": {
            "text/html": [
              "<div>\n",
              "<style scoped>\n",
              "    .dataframe tbody tr th:only-of-type {\n",
              "        vertical-align: middle;\n",
              "    }\n",
              "\n",
              "    .dataframe tbody tr th {\n",
              "        vertical-align: top;\n",
              "    }\n",
              "\n",
              "    .dataframe thead th {\n",
              "        text-align: right;\n",
              "    }\n",
              "</style>\n",
              "<table border=\"1\" class=\"dataframe\">\n",
              "  <thead>\n",
              "    <tr style=\"text-align: right;\">\n",
              "      <th></th>\n",
              "      <th>Dependents</th>\n",
              "      <th>OnlineSecurity</th>\n",
              "      <th>TechSupport</th>\n",
              "      <th>SeniorCitizen</th>\n",
              "      <th>Contract</th>\n",
              "      <th>tenure</th>\n",
              "      <th>PaperlessBilling</th>\n",
              "      <th>MonthlyCharges</th>\n",
              "      <th>Churn</th>\n",
              "    </tr>\n",
              "  </thead>\n",
              "  <tbody>\n",
              "    <tr>\n",
              "      <th>0</th>\n",
              "      <td>1</td>\n",
              "      <td>1</td>\n",
              "      <td>1</td>\n",
              "      <td>0</td>\n",
              "      <td>2</td>\n",
              "      <td>72</td>\n",
              "      <td>0</td>\n",
              "      <td>24.10</td>\n",
              "      <td>0</td>\n",
              "    </tr>\n",
              "    <tr>\n",
              "      <th>1</th>\n",
              "      <td>0</td>\n",
              "      <td>0</td>\n",
              "      <td>0</td>\n",
              "      <td>0</td>\n",
              "      <td>0</td>\n",
              "      <td>44</td>\n",
              "      <td>1</td>\n",
              "      <td>88.15</td>\n",
              "      <td>0</td>\n",
              "    </tr>\n",
              "    <tr>\n",
              "      <th>2</th>\n",
              "      <td>0</td>\n",
              "      <td>0</td>\n",
              "      <td>0</td>\n",
              "      <td>1</td>\n",
              "      <td>0</td>\n",
              "      <td>38</td>\n",
              "      <td>1</td>\n",
              "      <td>74.95</td>\n",
              "      <td>1</td>\n",
              "    </tr>\n",
              "    <tr>\n",
              "      <th>3</th>\n",
              "      <td>0</td>\n",
              "      <td>0</td>\n",
              "      <td>0</td>\n",
              "      <td>0</td>\n",
              "      <td>0</td>\n",
              "      <td>4</td>\n",
              "      <td>1</td>\n",
              "      <td>55.90</td>\n",
              "      <td>0</td>\n",
              "    </tr>\n",
              "    <tr>\n",
              "      <th>4</th>\n",
              "      <td>0</td>\n",
              "      <td>2</td>\n",
              "      <td>0</td>\n",
              "      <td>0</td>\n",
              "      <td>0</td>\n",
              "      <td>2</td>\n",
              "      <td>0</td>\n",
              "      <td>53.45</td>\n",
              "      <td>0</td>\n",
              "    </tr>\n",
              "  </tbody>\n",
              "</table>\n",
              "</div>"
            ],
            "text/plain": [
              "   Dependents  OnlineSecurity  ...  MonthlyCharges  Churn\n",
              "0           1               1  ...           24.10      0\n",
              "1           0               0  ...           88.15      0\n",
              "2           0               0  ...           74.95      1\n",
              "3           0               0  ...           55.90      0\n",
              "4           0               2  ...           53.45      0\n",
              "\n",
              "[5 rows x 9 columns]"
            ]
          },
          "metadata": {
            "tags": []
          },
          "execution_count": 9
        }
      ]
    },
    {
      "cell_type": "markdown",
      "metadata": {
        "colab_type": "text",
        "id": "YnZrI40dVYSZ"
      },
      "source": [
        "# 3. Построение моделей для прогнозирования оттока"
      ]
    },
    {
      "cell_type": "code",
      "metadata": {
        "colab_type": "code",
        "id": "wwrrkx8pVYSa",
        "colab": {}
      },
      "source": [
        "# разделим данные на тренировочные и тестовые\n",
        "from sklearn.model_selection import train_test_split\n",
        "from sklearn.preprocessing import StandardScaler\n",
        "\n",
        "x = data.drop('Churn', axis=1).values\n",
        "y = data.Churn.values\n",
        "\n",
        "# выполню стандартизацию для сглаживания данных\n",
        "x = StandardScaler().fit_transform(x)\n",
        "\n",
        "x_train, x_test, y_train, y_test = train_test_split(\n",
        "    x, y, test_size=0.2, random_state=17)"
      ],
      "execution_count": 10,
      "outputs": []
    },
    {
      "cell_type": "markdown",
      "metadata": {
        "id": "QM72ynLE2MG3",
        "colab_type": "text"
      },
      "source": [
        "# 1) K-Means\n",
        "Первой моделью я выбираю K-Means, так как она идеально подходит для задачи разбиения признаков на 2 группы."
      ]
    },
    {
      "cell_type": "code",
      "metadata": {
        "id": "ELTTvT8N2yAT",
        "colab_type": "code",
        "colab": {
          "base_uri": "https://localhost:8080/",
          "height": 68
        },
        "outputId": "c6279c6e-b1d6-4538-e2a8-1d84162c99ff"
      },
      "source": [
        "# библиотеки\n",
        "from sklearn.cluster import KMeans\n",
        "from sklearn.metrics import silhouette_score\n",
        "from sklearn.metrics.cluster import adjusted_mutual_info_score\n",
        "\n",
        "km = KMeans(n_clusters=2, random_state=17)\n",
        "km.fit(x)"
      ],
      "execution_count": 11,
      "outputs": [
        {
          "output_type": "execute_result",
          "data": {
            "text/plain": [
              "KMeans(algorithm='auto', copy_x=True, init='k-means++', max_iter=300,\n",
              "       n_clusters=2, n_init=10, n_jobs=None, precompute_distances='auto',\n",
              "       random_state=17, tol=0.0001, verbose=0)"
            ]
          },
          "metadata": {
            "tags": []
          },
          "execution_count": 11
        }
      ]
    },
    {
      "cell_type": "code",
      "metadata": {
        "id": "wkm_jci348Wj",
        "colab_type": "code",
        "colab": {
          "base_uri": "https://localhost:8080/",
          "height": 51
        },
        "outputId": "8ce5567d-8b58-4ddf-fc43-f1c690557aab"
      },
      "source": [
        "import numpy as np\n",
        "\n",
        "# перевод матрицы для оценки AMI\n",
        "y_ami = y.flatten()\n",
        "\n",
        "sil_score = silhouette_score(x, km.labels_)\n",
        "ami_score = adjusted_mutual_info_score(y_ami, km.labels_)\n",
        "\n",
        "print('Silhouette score {}\\nAMI score {}'.format(\n",
        "    np.round(sil_score, decimals=2), np.round(ami_score, decimals=2)))"
      ],
      "execution_count": 12,
      "outputs": [
        {
          "output_type": "stream",
          "text": [
            "Silhouette score 0.22\n",
            "AMI score 0.14\n"
          ],
          "name": "stdout"
        }
      ]
    },
    {
      "cell_type": "markdown",
      "metadata": {
        "id": "bHHyzrLCP0ae",
        "colab_type": "text"
      },
      "source": [
        "Результат получился очень слабым."
      ]
    },
    {
      "cell_type": "markdown",
      "metadata": {
        "id": "Qy8Q22r0HThy",
        "colab_type": "text"
      },
      "source": [
        "# 2) K-Nearest Neighbors\n",
        "Небольшой датасет и отлично разделенные классы делают этот алгоритм подходящим."
      ]
    },
    {
      "cell_type": "code",
      "metadata": {
        "id": "jCHycDRdIuf6",
        "colab_type": "code",
        "colab": {
          "base_uri": "https://localhost:8080/",
          "height": 255
        },
        "outputId": "936d6194-9732-4425-df1d-0e51f8e84c2f"
      },
      "source": [
        "from sklearn.neighbors import KNeighborsClassifier\n",
        "from sklearn.metrics import confusion_matrix, classification_report\n",
        "from sklearn.metrics import roc_auc_score\n",
        "\n",
        "kn = KNeighborsClassifier()\n",
        "kn.fit(x_train, y_train)\n",
        "kn_pred = kn.predict(x_test)\n",
        "\n",
        "\"\"\"\n",
        "так как часто буду рассчитывать точность модели, то напишу функцию \n",
        "для расчёта всех оценок\n",
        "\"\"\"\n",
        "\n",
        "def all_scores(y_pred, y_true=y_test):\n",
        "  ras = roc_auc_score(y_true, y_pred)\n",
        "  cmat = confusion_matrix(y_true, y_pred)\n",
        "  crep = classification_report(y_true, y_pred)\n",
        "  # введу константу D для округления оценки\n",
        "  D = 2\n",
        "  print('Roc auc score: {}\\nConfusion matrix:\\n{}\\nClass report:\\n{}'.format(\n",
        "      np.round(ras, D), cmat, crep))\n",
        "  \n",
        "all_scores(kn_pred)"
      ],
      "execution_count": 13,
      "outputs": [
        {
          "output_type": "stream",
          "text": [
            "Roc auc score: 0.67\n",
            "Confusion matrix:\n",
            "[[774 109]\n",
            " [169 146]]\n",
            "Class report:\n",
            "              precision    recall  f1-score   support\n",
            "\n",
            "           0       0.82      0.88      0.85       883\n",
            "           1       0.57      0.46      0.51       315\n",
            "\n",
            "    accuracy                           0.77      1198\n",
            "   macro avg       0.70      0.67      0.68      1198\n",
            "weighted avg       0.76      0.77      0.76      1198\n",
            "\n"
          ],
          "name": "stdout"
        }
      ]
    },
    {
      "cell_type": "markdown",
      "metadata": {
        "id": "nS1fREouP8Cp",
        "colab_type": "text"
      },
      "source": [
        "Хорошая точность, но посредственная оценка precision для первого класса. Возможно нужно больше баланса в целевой переменной."
      ]
    },
    {
      "cell_type": "markdown",
      "metadata": {
        "id": "q6FHdfUPI0RN",
        "colab_type": "text"
      },
      "source": [
        "# 3) Support Vector Machines\n",
        "Этот алгоритм отлично подходит для бинароной классификации."
      ]
    },
    {
      "cell_type": "code",
      "metadata": {
        "id": "IkB8g2f_JKTk",
        "colab_type": "code",
        "colab": {
          "base_uri": "https://localhost:8080/",
          "height": 85
        },
        "outputId": "d63f3942-ce9b-4e6b-eb6a-12e36919c721"
      },
      "source": [
        "from sklearn.svm import SVC\n",
        "\n",
        "sc = SVC()\n",
        "sc.fit(x_train, y_train)"
      ],
      "execution_count": 14,
      "outputs": [
        {
          "output_type": "execute_result",
          "data": {
            "text/plain": [
              "SVC(C=1.0, break_ties=False, cache_size=200, class_weight=None, coef0=0.0,\n",
              "    decision_function_shape='ovr', degree=3, gamma='scale', kernel='rbf',\n",
              "    max_iter=-1, probability=False, random_state=None, shrinking=True,\n",
              "    tol=0.001, verbose=False)"
            ]
          },
          "metadata": {
            "tags": []
          },
          "execution_count": 14
        }
      ]
    },
    {
      "cell_type": "code",
      "metadata": {
        "id": "qO1vdn7BKDJr",
        "colab_type": "code",
        "colab": {
          "base_uri": "https://localhost:8080/",
          "height": 255
        },
        "outputId": "c73b9b9b-d085-4c77-c9cc-d9ff58576e6b"
      },
      "source": [
        "sc_pred = sc.predict(x_test)\n",
        "\n",
        "all_scores(sc_pred)"
      ],
      "execution_count": 15,
      "outputs": [
        {
          "output_type": "stream",
          "text": [
            "Roc auc score: 0.68\n",
            "Confusion matrix:\n",
            "[[812  71]\n",
            " [174 141]]\n",
            "Class report:\n",
            "              precision    recall  f1-score   support\n",
            "\n",
            "           0       0.82      0.92      0.87       883\n",
            "           1       0.67      0.45      0.54       315\n",
            "\n",
            "    accuracy                           0.80      1198\n",
            "   macro avg       0.74      0.68      0.70      1198\n",
            "weighted avg       0.78      0.80      0.78      1198\n",
            "\n"
          ],
          "name": "stdout"
        }
      ]
    },
    {
      "cell_type": "markdown",
      "metadata": {
        "id": "TldOcdTDQUr_",
        "colab_type": "text"
      },
      "source": [
        "Отличная оценка! Очень мало FP, хорошая оценка precision. Однозначно подходящий алгоритм."
      ]
    },
    {
      "cell_type": "markdown",
      "metadata": {
        "id": "_boFnu9nKtNo",
        "colab_type": "text"
      },
      "source": [
        "# 4) GaussianNB\n",
        "Отличный алгоритм обучения известный своей простотой и хорошими показателями на малых данных."
      ]
    },
    {
      "cell_type": "code",
      "metadata": {
        "id": "dbAZnRuZLfb9",
        "colab_type": "code",
        "colab": {
          "base_uri": "https://localhost:8080/",
          "height": 34
        },
        "outputId": "24d5aaea-caf1-4b22-818d-5ca138e325db"
      },
      "source": [
        "from sklearn.naive_bayes import GaussianNB\n",
        "\n",
        "gnb = GaussianNB()\n",
        "gnb.fit(x_train, y_train)"
      ],
      "execution_count": 16,
      "outputs": [
        {
          "output_type": "execute_result",
          "data": {
            "text/plain": [
              "GaussianNB(priors=None, var_smoothing=1e-09)"
            ]
          },
          "metadata": {
            "tags": []
          },
          "execution_count": 16
        }
      ]
    },
    {
      "cell_type": "code",
      "metadata": {
        "id": "gO23zo4jL8z2",
        "colab_type": "code",
        "colab": {
          "base_uri": "https://localhost:8080/",
          "height": 255
        },
        "outputId": "709faed8-b462-4245-9e88-a985bd8ab9ec"
      },
      "source": [
        "gnb_pred = gnb.predict(x_test)\n",
        "\n",
        "all_scores(gnb_pred)"
      ],
      "execution_count": 17,
      "outputs": [
        {
          "output_type": "stream",
          "text": [
            "Roc auc score: 0.71\n",
            "Confusion matrix:\n",
            "[[670 213]\n",
            " [104 211]]\n",
            "Class report:\n",
            "              precision    recall  f1-score   support\n",
            "\n",
            "           0       0.87      0.76      0.81       883\n",
            "           1       0.50      0.67      0.57       315\n",
            "\n",
            "    accuracy                           0.74      1198\n",
            "   macro avg       0.68      0.71      0.69      1198\n",
            "weighted avg       0.77      0.74      0.75      1198\n",
            "\n"
          ],
          "name": "stdout"
        }
      ]
    },
    {
      "cell_type": "markdown",
      "metadata": {
        "id": "4fN2Xxs5Qun4",
        "colab_type": "text"
      },
      "source": [
        "Очень много FP, но в целом неплохая точность."
      ]
    },
    {
      "cell_type": "markdown",
      "metadata": {
        "id": "f7XHgLEJMRin",
        "colab_type": "text"
      },
      "source": [
        "# 5) Decision Tree Classifier\n",
        "Отлично интерпритируемый алгоритм обучения. "
      ]
    },
    {
      "cell_type": "code",
      "metadata": {
        "id": "dHcclSqDMuNj",
        "colab_type": "code",
        "colab": {
          "base_uri": "https://localhost:8080/",
          "height": 119
        },
        "outputId": "c431f056-f55f-4a6e-ac76-cfa0552a5348"
      },
      "source": [
        "from sklearn.tree import DecisionTreeClassifier\n",
        "from sklearn.tree import export_text\n",
        "\n",
        "dtc = DecisionTreeClassifier()\n",
        "dtc.fit(x_train, y_train)"
      ],
      "execution_count": 18,
      "outputs": [
        {
          "output_type": "execute_result",
          "data": {
            "text/plain": [
              "DecisionTreeClassifier(ccp_alpha=0.0, class_weight=None, criterion='gini',\n",
              "                       max_depth=None, max_features=None, max_leaf_nodes=None,\n",
              "                       min_impurity_decrease=0.0, min_impurity_split=None,\n",
              "                       min_samples_leaf=1, min_samples_split=2,\n",
              "                       min_weight_fraction_leaf=0.0, presort='deprecated',\n",
              "                       random_state=None, splitter='best')"
            ]
          },
          "metadata": {
            "tags": []
          },
          "execution_count": 18
        }
      ]
    },
    {
      "cell_type": "code",
      "metadata": {
        "id": "4uA89rb-NAxG",
        "colab_type": "code",
        "colab": {
          "base_uri": "https://localhost:8080/",
          "height": 1000
        },
        "outputId": "8d27e2ed-092f-4594-e4bd-588e4f5199f1"
      },
      "source": [
        "print(export_text(dtc))"
      ],
      "execution_count": 19,
      "outputs": [
        {
          "output_type": "stream",
          "text": [
            "|--- feature_4 <= -0.23\n",
            "|   |--- feature_1 <= -0.33\n",
            "|   |   |--- feature_5 <= -0.90\n",
            "|   |   |   |--- feature_7 <= 0.14\n",
            "|   |   |   |   |--- feature_5 <= -1.14\n",
            "|   |   |   |   |   |--- feature_6 <= -0.18\n",
            "|   |   |   |   |   |   |--- feature_7 <= -0.66\n",
            "|   |   |   |   |   |   |   |--- feature_3 <= 0.92\n",
            "|   |   |   |   |   |   |   |   |--- feature_7 <= -1.34\n",
            "|   |   |   |   |   |   |   |   |   |--- class: 0\n",
            "|   |   |   |   |   |   |   |   |--- feature_7 >  -1.34\n",
            "|   |   |   |   |   |   |   |   |   |--- feature_7 <= -1.32\n",
            "|   |   |   |   |   |   |   |   |   |   |--- feature_0 <= 0.44\n",
            "|   |   |   |   |   |   |   |   |   |   |   |--- class: 1\n",
            "|   |   |   |   |   |   |   |   |   |   |--- feature_0 >  0.44\n",
            "|   |   |   |   |   |   |   |   |   |   |   |--- class: 0\n",
            "|   |   |   |   |   |   |   |   |   |--- feature_7 >  -1.32\n",
            "|   |   |   |   |   |   |   |   |   |   |--- feature_5 <= -1.22\n",
            "|   |   |   |   |   |   |   |   |   |   |   |--- truncated branch of depth 10\n",
            "|   |   |   |   |   |   |   |   |   |   |--- feature_5 >  -1.22\n",
            "|   |   |   |   |   |   |   |   |   |   |   |--- truncated branch of depth 5\n",
            "|   |   |   |   |   |   |   |--- feature_3 >  0.92\n",
            "|   |   |   |   |   |   |   |   |--- feature_7 <= -0.75\n",
            "|   |   |   |   |   |   |   |   |   |--- class: 1\n",
            "|   |   |   |   |   |   |   |   |--- feature_7 >  -0.75\n",
            "|   |   |   |   |   |   |   |   |   |--- class: 0\n",
            "|   |   |   |   |   |   |--- feature_7 >  -0.66\n",
            "|   |   |   |   |   |   |   |--- feature_7 <= -0.65\n",
            "|   |   |   |   |   |   |   |   |--- class: 1\n",
            "|   |   |   |   |   |   |   |--- feature_7 >  -0.65\n",
            "|   |   |   |   |   |   |   |   |--- feature_7 <= -0.65\n",
            "|   |   |   |   |   |   |   |   |   |--- class: 0\n",
            "|   |   |   |   |   |   |   |   |--- feature_7 >  -0.65\n",
            "|   |   |   |   |   |   |   |   |   |--- feature_0 <= 0.44\n",
            "|   |   |   |   |   |   |   |   |   |   |--- feature_7 <= -0.58\n",
            "|   |   |   |   |   |   |   |   |   |   |   |--- truncated branch of depth 4\n",
            "|   |   |   |   |   |   |   |   |   |   |--- feature_7 >  -0.58\n",
            "|   |   |   |   |   |   |   |   |   |   |   |--- truncated branch of depth 8\n",
            "|   |   |   |   |   |   |   |   |   |--- feature_0 >  0.44\n",
            "|   |   |   |   |   |   |   |   |   |   |--- feature_7 <= -0.45\n",
            "|   |   |   |   |   |   |   |   |   |   |   |--- class: 1\n",
            "|   |   |   |   |   |   |   |   |   |   |--- feature_7 >  -0.45\n",
            "|   |   |   |   |   |   |   |   |   |   |   |--- truncated branch of depth 2\n",
            "|   |   |   |   |   |--- feature_6 >  -0.18\n",
            "|   |   |   |   |   |   |--- feature_7 <= -0.32\n",
            "|   |   |   |   |   |   |   |--- feature_7 <= -0.48\n",
            "|   |   |   |   |   |   |   |   |--- feature_7 <= -0.49\n",
            "|   |   |   |   |   |   |   |   |   |--- feature_7 <= -0.70\n",
            "|   |   |   |   |   |   |   |   |   |   |--- feature_7 <= -1.13\n",
            "|   |   |   |   |   |   |   |   |   |   |   |--- truncated branch of depth 7\n",
            "|   |   |   |   |   |   |   |   |   |   |--- feature_7 >  -1.13\n",
            "|   |   |   |   |   |   |   |   |   |   |   |--- truncated branch of depth 4\n",
            "|   |   |   |   |   |   |   |   |   |--- feature_7 >  -0.70\n",
            "|   |   |   |   |   |   |   |   |   |   |--- feature_7 <= -0.68\n",
            "|   |   |   |   |   |   |   |   |   |   |   |--- truncated branch of depth 3\n",
            "|   |   |   |   |   |   |   |   |   |   |--- feature_7 >  -0.68\n",
            "|   |   |   |   |   |   |   |   |   |   |   |--- truncated branch of depth 12\n",
            "|   |   |   |   |   |   |   |   |--- feature_7 >  -0.49\n",
            "|   |   |   |   |   |   |   |   |   |--- feature_5 <= -1.22\n",
            "|   |   |   |   |   |   |   |   |   |   |--- class: 0\n",
            "|   |   |   |   |   |   |   |   |   |--- feature_5 >  -1.22\n",
            "|   |   |   |   |   |   |   |   |   |   |--- class: 1\n",
            "|   |   |   |   |   |   |   |--- feature_7 >  -0.48\n",
            "|   |   |   |   |   |   |   |   |--- feature_7 <= -0.36\n",
            "|   |   |   |   |   |   |   |   |   |--- class: 1\n",
            "|   |   |   |   |   |   |   |   |--- feature_7 >  -0.36\n",
            "|   |   |   |   |   |   |   |   |   |--- feature_7 <= -0.34\n",
            "|   |   |   |   |   |   |   |   |   |   |--- feature_5 <= -1.26\n",
            "|   |   |   |   |   |   |   |   |   |   |   |--- class: 0\n",
            "|   |   |   |   |   |   |   |   |   |   |--- feature_5 >  -1.26\n",
            "|   |   |   |   |   |   |   |   |   |   |   |--- truncated branch of depth 2\n",
            "|   |   |   |   |   |   |   |   |   |--- feature_7 >  -0.34\n",
            "|   |   |   |   |   |   |   |   |   |   |--- class: 1\n",
            "|   |   |   |   |   |   |--- feature_7 >  -0.32\n",
            "|   |   |   |   |   |   |   |--- feature_7 <= 0.04\n",
            "|   |   |   |   |   |   |   |   |--- feature_5 <= -1.18\n",
            "|   |   |   |   |   |   |   |   |   |--- feature_5 <= -1.22\n",
            "|   |   |   |   |   |   |   |   |   |   |--- feature_7 <= -0.30\n",
            "|   |   |   |   |   |   |   |   |   |   |   |--- class: 0\n",
            "|   |   |   |   |   |   |   |   |   |   |--- feature_7 >  -0.30\n",
            "|   |   |   |   |   |   |   |   |   |   |   |--- truncated branch of depth 3\n",
            "|   |   |   |   |   |   |   |   |   |--- feature_5 >  -1.22\n",
            "|   |   |   |   |   |   |   |   |   |   |--- feature_7 <= -0.24\n",
            "|   |   |   |   |   |   |   |   |   |   |   |--- class: 1\n",
            "|   |   |   |   |   |   |   |   |   |   |--- feature_7 >  -0.24\n",
            "|   |   |   |   |   |   |   |   |   |   |   |--- truncated branch of depth 2\n",
            "|   |   |   |   |   |   |   |   |--- feature_5 >  -1.18\n",
            "|   |   |   |   |   |   |   |   |   |--- class: 0\n",
            "|   |   |   |   |   |   |   |--- feature_7 >  0.04\n",
            "|   |   |   |   |   |   |   |   |--- class: 1\n",
            "|   |   |   |   |--- feature_5 >  -1.14\n",
            "|   |   |   |   |   |--- feature_7 <= -0.45\n",
            "|   |   |   |   |   |   |--- feature_7 <= -1.31\n",
            "|   |   |   |   |   |   |   |--- class: 0\n",
            "|   |   |   |   |   |   |--- feature_7 >  -1.31\n",
            "|   |   |   |   |   |   |   |--- feature_7 <= -1.15\n",
            "|   |   |   |   |   |   |   |   |--- feature_3 <= 0.92\n",
            "|   |   |   |   |   |   |   |   |   |--- feature_6 <= -0.18\n",
            "|   |   |   |   |   |   |   |   |   |   |--- class: 1\n",
            "|   |   |   |   |   |   |   |   |   |--- feature_6 >  -0.18\n",
            "|   |   |   |   |   |   |   |   |   |   |--- class: 0\n",
            "|   |   |   |   |   |   |   |   |--- feature_3 >  0.92\n",
            "|   |   |   |   |   |   |   |   |   |--- class: 1\n",
            "|   |   |   |   |   |   |   |--- feature_7 >  -1.15\n",
            "|   |   |   |   |   |   |   |   |--- feature_0 <= 0.44\n",
            "|   |   |   |   |   |   |   |   |   |--- feature_7 <= -0.67\n",
            "|   |   |   |   |   |   |   |   |   |   |--- feature_7 <= -0.75\n",
            "|   |   |   |   |   |   |   |   |   |   |   |--- truncated branch of depth 3\n",
            "|   |   |   |   |   |   |   |   |   |   |--- feature_7 >  -0.75\n",
            "|   |   |   |   |   |   |   |   |   |   |   |--- truncated branch of depth 4\n",
            "|   |   |   |   |   |   |   |   |   |--- feature_7 >  -0.67\n",
            "|   |   |   |   |   |   |   |   |   |   |--- feature_5 <= -1.10\n",
            "|   |   |   |   |   |   |   |   |   |   |   |--- class: 1\n",
            "|   |   |   |   |   |   |   |   |   |   |--- feature_5 >  -1.10\n",
            "|   |   |   |   |   |   |   |   |   |   |   |--- truncated branch of depth 5\n",
            "|   |   |   |   |   |   |   |   |--- feature_0 >  0.44\n",
            "|   |   |   |   |   |   |   |   |   |--- feature_7 <= -0.46\n",
            "|   |   |   |   |   |   |   |   |   |   |--- feature_5 <= -1.10\n",
            "|   |   |   |   |   |   |   |   |   |   |   |--- class: 0\n",
            "|   |   |   |   |   |   |   |   |   |   |--- feature_5 >  -1.10\n",
            "|   |   |   |   |   |   |   |   |   |   |   |--- truncated branch of depth 4\n",
            "|   |   |   |   |   |   |   |   |   |--- feature_7 >  -0.46\n",
            "|   |   |   |   |   |   |   |   |   |   |--- class: 1\n",
            "|   |   |   |   |   |--- feature_7 >  -0.45\n",
            "|   |   |   |   |   |   |--- feature_6 <= -0.18\n",
            "|   |   |   |   |   |   |   |--- feature_5 <= -0.98\n",
            "|   |   |   |   |   |   |   |   |--- class: 0\n",
            "|   |   |   |   |   |   |   |--- feature_5 >  -0.98\n",
            "|   |   |   |   |   |   |   |   |--- feature_7 <= -0.32\n",
            "|   |   |   |   |   |   |   |   |   |--- class: 0\n",
            "|   |   |   |   |   |   |   |   |--- feature_7 >  -0.32\n",
            "|   |   |   |   |   |   |   |   |   |--- feature_7 <= 0.09\n",
            "|   |   |   |   |   |   |   |   |   |   |--- class: 1\n",
            "|   |   |   |   |   |   |   |   |   |--- feature_7 >  0.09\n",
            "|   |   |   |   |   |   |   |   |   |   |--- class: 0\n",
            "|   |   |   |   |   |   |--- feature_6 >  -0.18\n",
            "|   |   |   |   |   |   |   |--- feature_2 <= 0.24\n",
            "|   |   |   |   |   |   |   |   |--- class: 0\n",
            "|   |   |   |   |   |   |   |--- feature_2 >  0.24\n",
            "|   |   |   |   |   |   |   |   |--- feature_7 <= -0.10\n",
            "|   |   |   |   |   |   |   |   |   |--- feature_5 <= -1.08\n",
            "|   |   |   |   |   |   |   |   |   |   |--- class: 0\n",
            "|   |   |   |   |   |   |   |   |   |--- feature_5 >  -1.08\n",
            "|   |   |   |   |   |   |   |   |   |   |--- feature_5 <= -1.00\n",
            "|   |   |   |   |   |   |   |   |   |   |   |--- class: 1\n",
            "|   |   |   |   |   |   |   |   |   |   |--- feature_5 >  -1.00\n",
            "|   |   |   |   |   |   |   |   |   |   |   |--- class: 0\n",
            "|   |   |   |   |   |   |   |   |--- feature_7 >  -0.10\n",
            "|   |   |   |   |   |   |   |   |   |--- class: 0\n",
            "|   |   |   |--- feature_7 >  0.14\n",
            "|   |   |   |   |--- feature_5 <= -1.26\n",
            "|   |   |   |   |   |--- feature_2 <= 0.24\n",
            "|   |   |   |   |   |   |--- feature_7 <= 0.17\n",
            "|   |   |   |   |   |   |   |--- class: 1\n",
            "|   |   |   |   |   |   |--- feature_7 >  0.17\n",
            "|   |   |   |   |   |   |   |--- feature_7 <= 0.36\n",
            "|   |   |   |   |   |   |   |   |--- feature_7 <= 0.35\n",
            "|   |   |   |   |   |   |   |   |   |--- feature_0 <= 0.44\n",
            "|   |   |   |   |   |   |   |   |   |   |--- feature_7 <= 0.27\n",
            "|   |   |   |   |   |   |   |   |   |   |   |--- truncated branch of depth 10\n",
            "|   |   |   |   |   |   |   |   |   |   |--- feature_7 >  0.27\n",
            "|   |   |   |   |   |   |   |   |   |   |   |--- truncated branch of depth 5\n",
            "|   |   |   |   |   |   |   |   |   |--- feature_0 >  0.44\n",
            "|   |   |   |   |   |   |   |   |   |   |--- class: 1\n",
            "|   |   |   |   |   |   |   |   |--- feature_7 >  0.35\n",
            "|   |   |   |   |   |   |   |   |   |--- class: 0\n",
            "|   |   |   |   |   |   |   |--- feature_7 >  0.36\n",
            "|   |   |   |   |   |   |   |   |--- feature_0 <= 0.44\n",
            "|   |   |   |   |   |   |   |   |   |--- feature_7 <= 0.48\n",
            "|   |   |   |   |   |   |   |   |   |   |--- class: 1\n",
            "|   |   |   |   |   |   |   |   |   |--- feature_7 >  0.48\n",
            "|   |   |   |   |   |   |   |   |   |   |--- feature_7 <= 0.48\n",
            "|   |   |   |   |   |   |   |   |   |   |   |--- class: 0\n",
            "|   |   |   |   |   |   |   |   |   |   |--- feature_7 >  0.48\n",
            "|   |   |   |   |   |   |   |   |   |   |   |--- truncated branch of depth 5\n",
            "|   |   |   |   |   |   |   |   |--- feature_0 >  0.44\n",
            "|   |   |   |   |   |   |   |   |   |--- feature_7 <= 0.85\n",
            "|   |   |   |   |   |   |   |   |   |   |--- feature_7 <= 0.52\n",
            "|   |   |   |   |   |   |   |   |   |   |   |--- class: 1\n",
            "|   |   |   |   |   |   |   |   |   |   |--- feature_7 >  0.52\n",
            "|   |   |   |   |   |   |   |   |   |   |   |--- truncated branch of depth 2\n",
            "|   |   |   |   |   |   |   |   |   |--- feature_7 >  0.85\n",
            "|   |   |   |   |   |   |   |   |   |   |--- class: 1\n",
            "|   |   |   |   |   |--- feature_2 >  0.24\n",
            "|   |   |   |   |   |   |--- feature_7 <= 0.36\n",
            "|   |   |   |   |   |   |   |--- class: 0\n",
            "|   |   |   |   |   |   |--- feature_7 >  0.36\n",
            "|   |   |   |   |   |   |   |--- feature_7 <= 0.96\n",
            "|   |   |   |   |   |   |   |   |--- class: 1\n",
            "|   |   |   |   |   |   |   |--- feature_7 >  0.96\n",
            "|   |   |   |   |   |   |   |   |--- class: 0\n",
            "|   |   |   |   |--- feature_5 >  -1.26\n",
            "|   |   |   |   |   |--- feature_7 <= 0.37\n",
            "|   |   |   |   |   |   |--- feature_7 <= 0.15\n",
            "|   |   |   |   |   |   |   |--- class: 0\n",
            "|   |   |   |   |   |   |--- feature_7 >  0.15\n",
            "|   |   |   |   |   |   |   |--- feature_5 <= -1.02\n",
            "|   |   |   |   |   |   |   |   |--- feature_7 <= 0.36\n",
            "|   |   |   |   |   |   |   |   |   |--- feature_7 <= 0.35\n",
            "|   |   |   |   |   |   |   |   |   |   |--- feature_7 <= 0.35\n",
            "|   |   |   |   |   |   |   |   |   |   |   |--- truncated branch of depth 14\n",
            "|   |   |   |   |   |   |   |   |   |   |--- feature_7 >  0.35\n",
            "|   |   |   |   |   |   |   |   |   |   |   |--- class: 0\n",
            "|   |   |   |   |   |   |   |   |   |--- feature_7 >  0.35\n",
            "|   |   |   |   |   |   |   |   |   |   |--- class: 1\n",
            "|   |   |   |   |   |   |   |   |--- feature_7 >  0.36\n",
            "|   |   |   |   |   |   |   |   |   |--- feature_7 <= 0.36\n",
            "|   |   |   |   |   |   |   |   |   |   |--- class: 0\n",
            "|   |   |   |   |   |   |   |   |   |--- feature_7 >  0.36\n",
            "|   |   |   |   |   |   |   |   |   |   |--- class: 1\n",
            "|   |   |   |   |   |   |   |--- feature_5 >  -1.02\n",
            "|   |   |   |   |   |   |   |   |--- feature_5 <= -0.94\n",
            "|   |   |   |   |   |   |   |   |   |--- feature_6 <= -0.18\n",
            "|   |   |   |   |   |   |   |   |   |   |--- class: 0\n",
            "|   |   |   |   |   |   |   |   |   |--- feature_6 >  -0.18\n",
            "|   |   |   |   |   |   |   |   |   |   |--- feature_7 <= 0.28\n",
            "|   |   |   |   |   |   |   |   |   |   |   |--- truncated branch of depth 3\n",
            "|   |   |   |   |   |   |   |   |   |   |--- feature_7 >  0.28\n",
            "|   |   |   |   |   |   |   |   |   |   |   |--- truncated branch of depth 5\n",
            "|   |   |   |   |   |   |   |   |--- feature_5 >  -0.94\n",
            "|   |   |   |   |   |   |   |   |   |--- feature_7 <= 0.34\n",
            "|   |   |   |   |   |   |   |   |   |   |--- class: 1\n",
            "|   |   |   |   |   |   |   |   |   |--- feature_7 >  0.34\n",
            "|   |   |   |   |   |   |   |   |   |   |--- class: 0\n",
            "|   |   |   |   |   |--- feature_7 >  0.37\n",
            "|   |   |   |   |   |   |--- feature_7 <= 1.39\n",
            "|   |   |   |   |   |   |   |--- feature_7 <= 0.90\n",
            "|   |   |   |   |   |   |   |   |--- feature_7 <= 0.75\n",
            "|   |   |   |   |   |   |   |   |   |--- feature_6 <= -0.18\n",
            "|   |   |   |   |   |   |   |   |   |   |--- feature_7 <= 0.69\n",
            "|   |   |   |   |   |   |   |   |   |   |   |--- truncated branch of depth 10\n",
            "|   |   |   |   |   |   |   |   |   |   |--- feature_7 >  0.69\n",
            "|   |   |   |   |   |   |   |   |   |   |   |--- truncated branch of depth 2\n",
            "|   |   |   |   |   |   |   |   |   |--- feature_6 >  -0.18\n",
            "|   |   |   |   |   |   |   |   |   |   |--- feature_7 <= 0.70\n",
            "|   |   |   |   |   |   |   |   |   |   |   |--- truncated branch of depth 15\n",
            "|   |   |   |   |   |   |   |   |   |   |--- feature_7 >  0.70\n",
            "|   |   |   |   |   |   |   |   |   |   |   |--- class: 1\n",
            "|   |   |   |   |   |   |   |   |--- feature_7 >  0.75\n",
            "|   |   |   |   |   |   |   |   |   |--- feature_2 <= 0.24\n",
            "|   |   |   |   |   |   |   |   |   |   |--- feature_7 <= 0.86\n",
            "|   |   |   |   |   |   |   |   |   |   |   |--- truncated branch of depth 7\n",
            "|   |   |   |   |   |   |   |   |   |   |--- feature_7 >  0.86\n",
            "|   |   |   |   |   |   |   |   |   |   |   |--- truncated branch of depth 2\n",
            "|   |   |   |   |   |   |   |   |   |--- feature_2 >  0.24\n",
            "|   |   |   |   |   |   |   |   |   |   |--- feature_5 <= -1.22\n",
            "|   |   |   |   |   |   |   |   |   |   |   |--- class: 1\n",
            "|   |   |   |   |   |   |   |   |   |   |--- feature_5 >  -1.22\n",
            "|   |   |   |   |   |   |   |   |   |   |   |--- truncated branch of depth 3\n",
            "|   |   |   |   |   |   |   |--- feature_7 >  0.90\n",
            "|   |   |   |   |   |   |   |   |--- feature_5 <= -0.98\n",
            "|   |   |   |   |   |   |   |   |   |--- feature_7 <= 1.34\n",
            "|   |   |   |   |   |   |   |   |   |   |--- feature_7 <= 1.02\n",
            "|   |   |   |   |   |   |   |   |   |   |   |--- truncated branch of depth 6\n",
            "|   |   |   |   |   |   |   |   |   |   |--- feature_7 >  1.02\n",
            "|   |   |   |   |   |   |   |   |   |   |   |--- truncated branch of depth 3\n",
            "|   |   |   |   |   |   |   |   |   |--- feature_7 >  1.34\n",
            "|   |   |   |   |   |   |   |   |   |   |--- feature_5 <= -1.10\n",
            "|   |   |   |   |   |   |   |   |   |   |   |--- class: 0\n",
            "|   |   |   |   |   |   |   |   |   |   |--- feature_5 >  -1.10\n",
            "|   |   |   |   |   |   |   |   |   |   |   |--- class: 1\n",
            "|   |   |   |   |   |   |   |   |--- feature_5 >  -0.98\n",
            "|   |   |   |   |   |   |   |   |   |--- feature_7 <= 1.20\n",
            "|   |   |   |   |   |   |   |   |   |   |--- feature_3 <= 0.92\n",
            "|   |   |   |   |   |   |   |   |   |   |   |--- truncated branch of depth 7\n",
            "|   |   |   |   |   |   |   |   |   |   |--- feature_3 >  0.92\n",
            "|   |   |   |   |   |   |   |   |   |   |   |--- class: 1\n",
            "|   |   |   |   |   |   |   |   |   |--- feature_7 >  1.20\n",
            "|   |   |   |   |   |   |   |   |   |   |--- class: 0\n",
            "|   |   |   |   |   |   |--- feature_7 >  1.39\n",
            "|   |   |   |   |   |   |   |--- class: 0\n",
            "|   |   |--- feature_5 >  -0.90\n",
            "|   |   |   |--- feature_7 <= 0.29\n",
            "|   |   |   |   |--- feature_7 <= -1.33\n",
            "|   |   |   |   |   |--- class: 1\n",
            "|   |   |   |   |--- feature_7 >  -1.33\n",
            "|   |   |   |   |   |--- feature_7 <= 0.26\n",
            "|   |   |   |   |   |   |--- feature_7 <= 0.17\n",
            "|   |   |   |   |   |   |   |--- feature_5 <= 0.08\n",
            "|   |   |   |   |   |   |   |   |--- feature_5 <= -0.57\n",
            "|   |   |   |   |   |   |   |   |   |--- feature_5 <= -0.73\n",
            "|   |   |   |   |   |   |   |   |   |   |--- feature_7 <= -0.48\n",
            "|   |   |   |   |   |   |   |   |   |   |   |--- truncated branch of depth 10\n",
            "|   |   |   |   |   |   |   |   |   |   |--- feature_7 >  -0.48\n",
            "|   |   |   |   |   |   |   |   |   |   |   |--- truncated branch of depth 3\n",
            "|   |   |   |   |   |   |   |   |   |--- feature_5 >  -0.73\n",
            "|   |   |   |   |   |   |   |   |   |   |--- feature_7 <= 0.15\n",
            "|   |   |   |   |   |   |   |   |   |   |   |--- truncated branch of depth 13\n",
            "|   |   |   |   |   |   |   |   |   |   |--- feature_7 >  0.15\n",
            "|   |   |   |   |   |   |   |   |   |   |   |--- class: 0\n",
            "|   |   |   |   |   |   |   |   |--- feature_5 >  -0.57\n",
            "|   |   |   |   |   |   |   |   |   |--- feature_7 <= 0.14\n",
            "|   |   |   |   |   |   |   |   |   |   |--- feature_5 <= -0.45\n",
            "|   |   |   |   |   |   |   |   |   |   |   |--- class: 0\n",
            "|   |   |   |   |   |   |   |   |   |   |--- feature_5 >  -0.45\n",
            "|   |   |   |   |   |   |   |   |   |   |   |--- truncated branch of depth 10\n",
            "|   |   |   |   |   |   |   |   |   |--- feature_7 >  0.14\n",
            "|   |   |   |   |   |   |   |   |   |   |--- feature_5 <= -0.41\n",
            "|   |   |   |   |   |   |   |   |   |   |   |--- class: 1\n",
            "|   |   |   |   |   |   |   |   |   |   |--- feature_5 >  -0.41\n",
            "|   |   |   |   |   |   |   |   |   |   |   |--- truncated branch of depth 3\n",
            "|   |   |   |   |   |   |   |--- feature_5 >  0.08\n",
            "|   |   |   |   |   |   |   |   |--- feature_7 <= -0.28\n",
            "|   |   |   |   |   |   |   |   |   |--- feature_7 <= -0.35\n",
            "|   |   |   |   |   |   |   |   |   |   |--- feature_0 <= 0.44\n",
            "|   |   |   |   |   |   |   |   |   |   |   |--- truncated branch of depth 12\n",
            "|   |   |   |   |   |   |   |   |   |   |--- feature_0 >  0.44\n",
            "|   |   |   |   |   |   |   |   |   |   |   |--- class: 0\n",
            "|   |   |   |   |   |   |   |   |   |--- feature_7 >  -0.35\n",
            "|   |   |   |   |   |   |   |   |   |   |--- feature_5 <= 0.96\n",
            "|   |   |   |   |   |   |   |   |   |   |   |--- truncated branch of depth 3\n",
            "|   |   |   |   |   |   |   |   |   |   |--- feature_5 >  0.96\n",
            "|   |   |   |   |   |   |   |   |   |   |   |--- class: 0\n",
            "|   |   |   |   |   |   |   |   |--- feature_7 >  -0.28\n",
            "|   |   |   |   |   |   |   |   |   |--- feature_5 <= 0.23\n",
            "|   |   |   |   |   |   |   |   |   |   |--- class: 1\n",
            "|   |   |   |   |   |   |   |   |   |--- feature_5 >  0.23\n",
            "|   |   |   |   |   |   |   |   |   |   |--- class: 0\n",
            "|   |   |   |   |   |   |--- feature_7 >  0.17\n",
            "|   |   |   |   |   |   |   |--- feature_5 <= -0.26\n",
            "|   |   |   |   |   |   |   |   |--- feature_7 <= 0.23\n",
            "|   |   |   |   |   |   |   |   |   |--- feature_7 <= 0.21\n",
            "|   |   |   |   |   |   |   |   |   |   |--- feature_5 <= -0.83\n",
            "|   |   |   |   |   |   |   |   |   |   |   |--- class: 0\n",
            "|   |   |   |   |   |   |   |   |   |   |--- feature_5 >  -0.83\n",
            "|   |   |   |   |   |   |   |   |   |   |   |--- truncated branch of depth 5\n",
            "|   |   |   |   |   |   |   |   |   |--- feature_7 >  0.21\n",
            "|   |   |   |   |   |   |   |   |   |   |--- class: 0\n",
            "|   |   |   |   |   |   |   |   |--- feature_7 >  0.23\n",
            "|   |   |   |   |   |   |   |   |   |--- class: 1\n",
            "|   |   |   |   |   |   |   |--- feature_5 >  -0.26\n",
            "|   |   |   |   |   |   |   |   |--- feature_5 <= 0.39\n",
            "|   |   |   |   |   |   |   |   |   |--- feature_7 <= 0.18\n",
            "|   |   |   |   |   |   |   |   |   |   |--- class: 1\n",
            "|   |   |   |   |   |   |   |   |   |--- feature_7 >  0.18\n",
            "|   |   |   |   |   |   |   |   |   |   |--- class: 0\n",
            "|   |   |   |   |   |   |   |   |--- feature_5 >  0.39\n",
            "|   |   |   |   |   |   |   |   |   |--- feature_7 <= 0.19\n",
            "|   |   |   |   |   |   |   |   |   |   |--- class: 1\n",
            "|   |   |   |   |   |   |   |   |   |--- feature_7 >  0.19\n",
            "|   |   |   |   |   |   |   |   |   |   |--- feature_7 <= 0.20\n",
            "|   |   |   |   |   |   |   |   |   |   |   |--- class: 0\n",
            "|   |   |   |   |   |   |   |   |   |   |--- feature_7 >  0.20\n",
            "|   |   |   |   |   |   |   |   |   |   |   |--- class: 1\n",
            "|   |   |   |   |   |--- feature_7 >  0.26\n",
            "|   |   |   |   |   |   |--- class: 0\n",
            "|   |   |   |--- feature_7 >  0.29\n",
            "|   |   |   |   |--- feature_5 <= 0.90\n",
            "|   |   |   |   |   |--- feature_6 <= -0.18\n",
            "|   |   |   |   |   |   |--- feature_7 <= 1.26\n",
            "|   |   |   |   |   |   |   |--- feature_7 <= 0.34\n",
            "|   |   |   |   |   |   |   |   |--- class: 0\n",
            "|   |   |   |   |   |   |   |--- feature_7 >  0.34\n",
            "|   |   |   |   |   |   |   |   |--- feature_7 <= 0.46\n",
            "|   |   |   |   |   |   |   |   |   |--- feature_5 <= -0.02\n",
            "|   |   |   |   |   |   |   |   |   |   |--- feature_7 <= 0.44\n",
            "|   |   |   |   |   |   |   |   |   |   |   |--- truncated branch of depth 5\n",
            "|   |   |   |   |   |   |   |   |   |   |--- feature_7 >  0.44\n",
            "|   |   |   |   |   |   |   |   |   |   |   |--- class: 1\n",
            "|   |   |   |   |   |   |   |   |   |--- feature_5 >  -0.02\n",
            "|   |   |   |   |   |   |   |   |   |   |--- class: 1\n",
            "|   |   |   |   |   |   |   |   |--- feature_7 >  0.46\n",
            "|   |   |   |   |   |   |   |   |   |--- feature_7 <= 0.53\n",
            "|   |   |   |   |   |   |   |   |   |   |--- feature_5 <= 0.59\n",
            "|   |   |   |   |   |   |   |   |   |   |   |--- class: 0\n",
            "|   |   |   |   |   |   |   |   |   |   |--- feature_5 >  0.59\n",
            "|   |   |   |   |   |   |   |   |   |   |   |--- class: 1\n",
            "|   |   |   |   |   |   |   |   |   |--- feature_7 >  0.53\n",
            "|   |   |   |   |   |   |   |   |   |   |--- feature_7 <= 0.85\n",
            "|   |   |   |   |   |   |   |   |   |   |   |--- truncated branch of depth 10\n",
            "|   |   |   |   |   |   |   |   |   |   |--- feature_7 >  0.85\n",
            "|   |   |   |   |   |   |   |   |   |   |   |--- truncated branch of depth 6\n",
            "|   |   |   |   |   |   |--- feature_7 >  1.26\n",
            "|   |   |   |   |   |   |   |--- feature_7 <= 1.39\n",
            "|   |   |   |   |   |   |   |   |--- class: 1\n",
            "|   |   |   |   |   |   |   |--- feature_7 >  1.39\n",
            "|   |   |   |   |   |   |   |   |--- feature_5 <= 0.45\n",
            "|   |   |   |   |   |   |   |   |   |--- class: 0\n",
            "|   |   |   |   |   |   |   |   |--- feature_5 >  0.45\n",
            "|   |   |   |   |   |   |   |   |   |--- class: 1\n",
            "|   |   |   |   |   |--- feature_6 >  -0.18\n",
            "|   |   |   |   |   |   |--- feature_7 <= 1.03\n",
            "|   |   |   |   |   |   |   |--- feature_7 <= 0.88\n",
            "|   |   |   |   |   |   |   |   |--- feature_3 <= 0.92\n",
            "|   |   |   |   |   |   |   |   |   |--- feature_5 <= 0.63\n",
            "|   |   |   |   |   |   |   |   |   |   |--- feature_7 <= 0.87\n",
            "|   |   |   |   |   |   |   |   |   |   |   |--- truncated branch of depth 22\n",
            "|   |   |   |   |   |   |   |   |   |   |--- feature_7 >  0.87\n",
            "|   |   |   |   |   |   |   |   |   |   |   |--- class: 1\n",
            "|   |   |   |   |   |   |   |   |   |--- feature_5 >  0.63\n",
            "|   |   |   |   |   |   |   |   |   |   |--- class: 0\n",
            "|   |   |   |   |   |   |   |   |--- feature_3 >  0.92\n",
            "|   |   |   |   |   |   |   |   |   |--- feature_5 <= -0.86\n",
            "|   |   |   |   |   |   |   |   |   |   |--- feature_7 <= 0.57\n",
            "|   |   |   |   |   |   |   |   |   |   |   |--- class: 0\n",
            "|   |   |   |   |   |   |   |   |   |   |--- feature_7 >  0.57\n",
            "|   |   |   |   |   |   |   |   |   |   |   |--- class: 1\n",
            "|   |   |   |   |   |   |   |   |   |--- feature_5 >  -0.86\n",
            "|   |   |   |   |   |   |   |   |   |   |--- feature_5 <= -0.69\n",
            "|   |   |   |   |   |   |   |   |   |   |   |--- class: 1\n",
            "|   |   |   |   |   |   |   |   |   |   |--- feature_5 >  -0.69\n",
            "|   |   |   |   |   |   |   |   |   |   |   |--- truncated branch of depth 15\n",
            "|   |   |   |   |   |   |   |--- feature_7 >  0.88\n",
            "|   |   |   |   |   |   |   |   |--- feature_7 <= 0.95\n",
            "|   |   |   |   |   |   |   |   |   |--- class: 0\n",
            "|   |   |   |   |   |   |   |   |--- feature_7 >  0.95\n",
            "|   |   |   |   |   |   |   |   |   |--- feature_5 <= -0.08\n",
            "|   |   |   |   |   |   |   |   |   |   |--- feature_3 <= 0.92\n",
            "|   |   |   |   |   |   |   |   |   |   |   |--- truncated branch of depth 7\n",
            "|   |   |   |   |   |   |   |   |   |   |--- feature_3 >  0.92\n",
            "|   |   |   |   |   |   |   |   |   |   |   |--- truncated branch of depth 6\n",
            "|   |   |   |   |   |   |   |   |   |--- feature_5 >  -0.08\n",
            "|   |   |   |   |   |   |   |   |   |   |--- feature_5 <= 0.59\n",
            "|   |   |   |   |   |   |   |   |   |   |   |--- truncated branch of depth 7\n",
            "|   |   |   |   |   |   |   |   |   |   |--- feature_5 >  0.59\n",
            "|   |   |   |   |   |   |   |   |   |   |   |--- truncated branch of depth 3\n",
            "|   |   |   |   |   |   |--- feature_7 >  1.03\n",
            "|   |   |   |   |   |   |   |--- feature_5 <= -0.28\n",
            "|   |   |   |   |   |   |   |   |--- feature_7 <= 1.25\n",
            "|   |   |   |   |   |   |   |   |   |--- feature_5 <= -0.57\n",
            "|   |   |   |   |   |   |   |   |   |   |--- feature_7 <= 1.08\n",
            "|   |   |   |   |   |   |   |   |   |   |   |--- truncated branch of depth 2\n",
            "|   |   |   |   |   |   |   |   |   |   |--- feature_7 >  1.08\n",
            "|   |   |   |   |   |   |   |   |   |   |   |--- class: 1\n",
            "|   |   |   |   |   |   |   |   |   |--- feature_5 >  -0.57\n",
            "|   |   |   |   |   |   |   |   |   |   |--- feature_3 <= 0.92\n",
            "|   |   |   |   |   |   |   |   |   |   |   |--- truncated branch of depth 4\n",
            "|   |   |   |   |   |   |   |   |   |   |--- feature_3 >  0.92\n",
            "|   |   |   |   |   |   |   |   |   |   |   |--- class: 1\n",
            "|   |   |   |   |   |   |   |   |--- feature_7 >  1.25\n",
            "|   |   |   |   |   |   |   |   |   |--- feature_7 <= 1.32\n",
            "|   |   |   |   |   |   |   |   |   |   |--- feature_5 <= -0.43\n",
            "|   |   |   |   |   |   |   |   |   |   |   |--- class: 0\n",
            "|   |   |   |   |   |   |   |   |   |   |--- feature_5 >  -0.43\n",
            "|   |   |   |   |   |   |   |   |   |   |   |--- truncated branch of depth 4\n",
            "|   |   |   |   |   |   |   |   |   |--- feature_7 >  1.32\n",
            "|   |   |   |   |   |   |   |   |   |   |--- feature_5 <= -0.86\n",
            "|   |   |   |   |   |   |   |   |   |   |   |--- class: 0\n",
            "|   |   |   |   |   |   |   |   |   |   |--- feature_5 >  -0.86\n",
            "|   |   |   |   |   |   |   |   |   |   |   |--- truncated branch of depth 3\n",
            "|   |   |   |   |   |   |   |--- feature_5 >  -0.28\n",
            "|   |   |   |   |   |   |   |   |--- feature_2 <= 0.24\n",
            "|   |   |   |   |   |   |   |   |   |--- feature_0 <= 0.44\n",
            "|   |   |   |   |   |   |   |   |   |   |--- feature_7 <= 1.12\n",
            "|   |   |   |   |   |   |   |   |   |   |   |--- truncated branch of depth 4\n",
            "|   |   |   |   |   |   |   |   |   |   |--- feature_7 >  1.12\n",
            "|   |   |   |   |   |   |   |   |   |   |   |--- truncated branch of depth 10\n",
            "|   |   |   |   |   |   |   |   |   |--- feature_0 >  0.44\n",
            "|   |   |   |   |   |   |   |   |   |   |--- feature_5 <= -0.06\n",
            "|   |   |   |   |   |   |   |   |   |   |   |--- class: 1\n",
            "|   |   |   |   |   |   |   |   |   |   |--- feature_5 >  -0.06\n",
            "|   |   |   |   |   |   |   |   |   |   |   |--- truncated branch of depth 4\n",
            "|   |   |   |   |   |   |   |   |--- feature_2 >  0.24\n",
            "|   |   |   |   |   |   |   |   |   |--- feature_7 <= 1.48\n",
            "|   |   |   |   |   |   |   |   |   |   |--- feature_7 <= 1.05\n",
            "|   |   |   |   |   |   |   |   |   |   |   |--- class: 1\n",
            "|   |   |   |   |   |   |   |   |   |   |--- feature_7 >  1.05\n",
            "|   |   |   |   |   |   |   |   |   |   |   |--- truncated branch of depth 7\n",
            "|   |   |   |   |   |   |   |   |   |--- feature_7 >  1.48\n",
            "|   |   |   |   |   |   |   |   |   |   |--- feature_5 <= 0.69\n",
            "|   |   |   |   |   |   |   |   |   |   |   |--- class: 1\n",
            "|   |   |   |   |   |   |   |   |   |   |--- feature_5 >  0.69\n",
            "|   |   |   |   |   |   |   |   |   |   |   |--- class: 0\n",
            "|   |   |   |   |--- feature_5 >  0.90\n",
            "|   |   |   |   |   |--- feature_7 <= 0.88\n",
            "|   |   |   |   |   |   |--- feature_7 <= 0.30\n",
            "|   |   |   |   |   |   |   |--- class: 1\n",
            "|   |   |   |   |   |   |--- feature_7 >  0.30\n",
            "|   |   |   |   |   |   |   |--- feature_5 <= 1.35\n",
            "|   |   |   |   |   |   |   |   |--- class: 0\n",
            "|   |   |   |   |   |   |   |--- feature_5 >  1.35\n",
            "|   |   |   |   |   |   |   |   |--- feature_5 <= 1.39\n",
            "|   |   |   |   |   |   |   |   |   |--- feature_7 <= 0.67\n",
            "|   |   |   |   |   |   |   |   |   |   |--- class: 1\n",
            "|   |   |   |   |   |   |   |   |   |--- feature_7 >  0.67\n",
            "|   |   |   |   |   |   |   |   |   |   |--- class: 0\n",
            "|   |   |   |   |   |   |   |   |--- feature_5 >  1.39\n",
            "|   |   |   |   |   |   |   |   |   |--- class: 0\n",
            "|   |   |   |   |   |--- feature_7 >  0.88\n",
            "|   |   |   |   |   |   |--- feature_5 <= 1.31\n",
            "|   |   |   |   |   |   |   |--- feature_5 <= 1.14\n",
            "|   |   |   |   |   |   |   |   |--- feature_0 <= 0.44\n",
            "|   |   |   |   |   |   |   |   |   |--- feature_7 <= 1.32\n",
            "|   |   |   |   |   |   |   |   |   |   |--- feature_7 <= 1.19\n",
            "|   |   |   |   |   |   |   |   |   |   |   |--- truncated branch of depth 5\n",
            "|   |   |   |   |   |   |   |   |   |   |--- feature_7 >  1.19\n",
            "|   |   |   |   |   |   |   |   |   |   |   |--- truncated branch of depth 3\n",
            "|   |   |   |   |   |   |   |   |   |--- feature_7 >  1.32\n",
            "|   |   |   |   |   |   |   |   |   |   |--- feature_5 <= 1.10\n",
            "|   |   |   |   |   |   |   |   |   |   |   |--- class: 0\n",
            "|   |   |   |   |   |   |   |   |   |   |--- feature_5 >  1.10\n",
            "|   |   |   |   |   |   |   |   |   |   |   |--- truncated branch of depth 3\n",
            "|   |   |   |   |   |   |   |   |--- feature_0 >  0.44\n",
            "|   |   |   |   |   |   |   |   |   |--- class: 0\n",
            "|   |   |   |   |   |   |   |--- feature_5 >  1.14\n",
            "|   |   |   |   |   |   |   |   |--- class: 0\n",
            "|   |   |   |   |   |   |--- feature_5 >  1.31\n",
            "|   |   |   |   |   |   |   |--- feature_5 <= 1.55\n",
            "|   |   |   |   |   |   |   |   |--- feature_3 <= 0.92\n",
            "|   |   |   |   |   |   |   |   |   |--- feature_5 <= 1.35\n",
            "|   |   |   |   |   |   |   |   |   |   |--- class: 1\n",
            "|   |   |   |   |   |   |   |   |   |--- feature_5 >  1.35\n",
            "|   |   |   |   |   |   |   |   |   |   |--- feature_7 <= 1.34\n",
            "|   |   |   |   |   |   |   |   |   |   |   |--- class: 1\n",
            "|   |   |   |   |   |   |   |   |   |   |--- feature_7 >  1.34\n",
            "|   |   |   |   |   |   |   |   |   |   |   |--- class: 0\n",
            "|   |   |   |   |   |   |   |   |--- feature_3 >  0.92\n",
            "|   |   |   |   |   |   |   |   |   |--- feature_5 <= 1.35\n",
            "|   |   |   |   |   |   |   |   |   |   |--- class: 0\n",
            "|   |   |   |   |   |   |   |   |   |--- feature_5 >  1.35\n",
            "|   |   |   |   |   |   |   |   |   |   |--- feature_7 <= 1.09\n",
            "|   |   |   |   |   |   |   |   |   |   |   |--- class: 0\n",
            "|   |   |   |   |   |   |   |   |   |   |--- feature_7 >  1.09\n",
            "|   |   |   |   |   |   |   |   |   |   |   |--- truncated branch of depth 3\n",
            "|   |   |   |   |   |   |   |--- feature_5 >  1.55\n",
            "|   |   |   |   |   |   |   |   |--- class: 0\n",
            "|   |--- feature_1 >  -0.33\n",
            "|   |   |--- feature_5 <= -1.18\n",
            "|   |   |   |--- feature_3 <= 0.92\n",
            "|   |   |   |   |--- feature_7 <= -1.51\n",
            "|   |   |   |   |   |--- feature_7 <= -1.53\n",
            "|   |   |   |   |   |   |--- feature_6 <= -0.18\n",
            "|   |   |   |   |   |   |   |--- class: 0\n",
            "|   |   |   |   |   |   |--- feature_6 >  -0.18\n",
            "|   |   |   |   |   |   |   |--- class: 1\n",
            "|   |   |   |   |   |--- feature_7 >  -1.53\n",
            "|   |   |   |   |   |   |--- feature_7 <= -1.51\n",
            "|   |   |   |   |   |   |   |--- feature_7 <= -1.51\n",
            "|   |   |   |   |   |   |   |   |--- feature_6 <= -0.18\n",
            "|   |   |   |   |   |   |   |   |   |--- class: 0\n",
            "|   |   |   |   |   |   |   |   |--- feature_6 >  -0.18\n",
            "|   |   |   |   |   |   |   |   |   |--- feature_0 <= 0.44\n",
            "|   |   |   |   |   |   |   |   |   |   |--- feature_5 <= -1.24\n",
            "|   |   |   |   |   |   |   |   |   |   |   |--- class: 1\n",
            "|   |   |   |   |   |   |   |   |   |   |--- feature_5 >  -1.24\n",
            "|   |   |   |   |   |   |   |   |   |   |   |--- class: 0\n",
            "|   |   |   |   |   |   |   |   |   |--- feature_0 >  0.44\n",
            "|   |   |   |   |   |   |   |   |   |   |--- class: 0\n",
            "|   |   |   |   |   |   |   |--- feature_7 >  -1.51\n",
            "|   |   |   |   |   |   |   |   |--- feature_6 <= -0.18\n",
            "|   |   |   |   |   |   |   |   |   |--- feature_0 <= 0.44\n",
            "|   |   |   |   |   |   |   |   |   |   |--- class: 1\n",
            "|   |   |   |   |   |   |   |   |   |--- feature_0 >  0.44\n",
            "|   |   |   |   |   |   |   |   |   |   |--- class: 0\n",
            "|   |   |   |   |   |   |   |   |--- feature_6 >  -0.18\n",
            "|   |   |   |   |   |   |   |   |   |--- class: 0\n",
            "|   |   |   |   |   |   |--- feature_7 >  -1.51\n",
            "|   |   |   |   |   |   |   |--- class: 0\n",
            "|   |   |   |   |--- feature_7 >  -1.51\n",
            "|   |   |   |   |   |--- feature_5 <= -1.26\n",
            "|   |   |   |   |   |   |--- feature_7 <= 0.09\n",
            "|   |   |   |   |   |   |   |--- feature_7 <= -0.85\n",
            "|   |   |   |   |   |   |   |   |--- feature_7 <= -1.48\n",
            "|   |   |   |   |   |   |   |   |   |--- feature_7 <= -1.48\n",
            "|   |   |   |   |   |   |   |   |   |   |--- feature_7 <= -1.48\n",
            "|   |   |   |   |   |   |   |   |   |   |   |--- truncated branch of depth 10\n",
            "|   |   |   |   |   |   |   |   |   |   |--- feature_7 >  -1.48\n",
            "|   |   |   |   |   |   |   |   |   |   |   |--- class: 0\n",
            "|   |   |   |   |   |   |   |   |   |--- feature_7 >  -1.48\n",
            "|   |   |   |   |   |   |   |   |   |   |--- feature_6 <= -0.18\n",
            "|   |   |   |   |   |   |   |   |   |   |   |--- truncated branch of depth 2\n",
            "|   |   |   |   |   |   |   |   |   |   |--- feature_6 >  -0.18\n",
            "|   |   |   |   |   |   |   |   |   |   |   |--- truncated branch of depth 2\n",
            "|   |   |   |   |   |   |   |   |--- feature_7 >  -1.48\n",
            "|   |   |   |   |   |   |   |   |   |--- feature_7 <= -1.47\n",
            "|   |   |   |   |   |   |   |   |   |   |--- feature_7 <= -1.48\n",
            "|   |   |   |   |   |   |   |   |   |   |   |--- truncated branch of depth 2\n",
            "|   |   |   |   |   |   |   |   |   |   |--- feature_7 >  -1.48\n",
            "|   |   |   |   |   |   |   |   |   |   |   |--- class: 0\n",
            "|   |   |   |   |   |   |   |   |   |--- feature_7 >  -1.47\n",
            "|   |   |   |   |   |   |   |   |   |   |--- feature_7 <= -1.47\n",
            "|   |   |   |   |   |   |   |   |   |   |   |--- class: 1\n",
            "|   |   |   |   |   |   |   |   |   |   |--- feature_7 >  -1.47\n",
            "|   |   |   |   |   |   |   |   |   |   |   |--- truncated branch of depth 8\n",
            "|   |   |   |   |   |   |   |--- feature_7 >  -0.85\n",
            "|   |   |   |   |   |   |   |   |--- feature_2 <= 0.24\n",
            "|   |   |   |   |   |   |   |   |   |--- feature_0 <= 0.44\n",
            "|   |   |   |   |   |   |   |   |   |   |--- class: 0\n",
            "|   |   |   |   |   |   |   |   |   |--- feature_0 >  0.44\n",
            "|   |   |   |   |   |   |   |   |   |   |--- feature_7 <= -0.48\n",
            "|   |   |   |   |   |   |   |   |   |   |   |--- class: 0\n",
            "|   |   |   |   |   |   |   |   |   |   |--- feature_7 >  -0.48\n",
            "|   |   |   |   |   |   |   |   |   |   |   |--- truncated branch of depth 2\n",
            "|   |   |   |   |   |   |   |   |--- feature_2 >  0.24\n",
            "|   |   |   |   |   |   |   |   |   |--- feature_6 <= -0.18\n",
            "|   |   |   |   |   |   |   |   |   |   |--- class: 0\n",
            "|   |   |   |   |   |   |   |   |   |--- feature_6 >  -0.18\n",
            "|   |   |   |   |   |   |   |   |   |   |--- class: 1\n",
            "|   |   |   |   |   |   |--- feature_7 >  0.09\n",
            "|   |   |   |   |   |   |   |--- class: 1\n",
            "|   |   |   |   |   |--- feature_5 >  -1.26\n",
            "|   |   |   |   |   |   |--- feature_7 <= 0.77\n",
            "|   |   |   |   |   |   |   |--- feature_2 <= -0.34\n",
            "|   |   |   |   |   |   |   |   |--- feature_7 <= -0.20\n",
            "|   |   |   |   |   |   |   |   |   |--- feature_7 <= -0.37\n",
            "|   |   |   |   |   |   |   |   |   |   |--- feature_7 <= -0.61\n",
            "|   |   |   |   |   |   |   |   |   |   |   |--- class: 1\n",
            "|   |   |   |   |   |   |   |   |   |   |--- feature_7 >  -0.61\n",
            "|   |   |   |   |   |   |   |   |   |   |   |--- class: 0\n",
            "|   |   |   |   |   |   |   |   |   |--- feature_7 >  -0.37\n",
            "|   |   |   |   |   |   |   |   |   |   |--- class: 1\n",
            "|   |   |   |   |   |   |   |   |--- feature_7 >  -0.20\n",
            "|   |   |   |   |   |   |   |   |   |--- feature_5 <= -1.22\n",
            "|   |   |   |   |   |   |   |   |   |   |--- feature_7 <= 0.12\n",
            "|   |   |   |   |   |   |   |   |   |   |   |--- class: 0\n",
            "|   |   |   |   |   |   |   |   |   |   |--- feature_7 >  0.12\n",
            "|   |   |   |   |   |   |   |   |   |   |   |--- class: 1\n",
            "|   |   |   |   |   |   |   |   |   |--- feature_5 >  -1.22\n",
            "|   |   |   |   |   |   |   |   |   |   |--- class: 0\n",
            "|   |   |   |   |   |   |   |--- feature_2 >  -0.34\n",
            "|   |   |   |   |   |   |   |   |--- feature_7 <= -1.49\n",
            "|   |   |   |   |   |   |   |   |   |--- feature_5 <= -1.22\n",
            "|   |   |   |   |   |   |   |   |   |   |--- feature_7 <= -1.50\n",
            "|   |   |   |   |   |   |   |   |   |   |   |--- class: 1\n",
            "|   |   |   |   |   |   |   |   |   |   |--- feature_7 >  -1.50\n",
            "|   |   |   |   |   |   |   |   |   |   |   |--- class: 0\n",
            "|   |   |   |   |   |   |   |   |   |--- feature_5 >  -1.22\n",
            "|   |   |   |   |   |   |   |   |   |   |--- feature_7 <= -1.50\n",
            "|   |   |   |   |   |   |   |   |   |   |   |--- truncated branch of depth 2\n",
            "|   |   |   |   |   |   |   |   |   |   |--- feature_7 >  -1.50\n",
            "|   |   |   |   |   |   |   |   |   |   |   |--- truncated branch of depth 2\n",
            "|   |   |   |   |   |   |   |   |--- feature_7 >  -1.49\n",
            "|   |   |   |   |   |   |   |   |   |--- feature_7 <= 0.65\n",
            "|   |   |   |   |   |   |   |   |   |   |--- feature_7 <= -1.48\n",
            "|   |   |   |   |   |   |   |   |   |   |   |--- class: 0\n",
            "|   |   |   |   |   |   |   |   |   |   |--- feature_7 >  -1.48\n",
            "|   |   |   |   |   |   |   |   |   |   |   |--- truncated branch of depth 6\n",
            "|   |   |   |   |   |   |   |   |   |--- feature_7 >  0.65\n",
            "|   |   |   |   |   |   |   |   |   |   |--- class: 1\n",
            "|   |   |   |   |   |   |--- feature_7 >  0.77\n",
            "|   |   |   |   |   |   |   |--- class: 0\n",
            "|   |   |   |--- feature_3 >  0.92\n",
            "|   |   |   |   |--- feature_7 <= -1.50\n",
            "|   |   |   |   |   |--- class: 0\n",
            "|   |   |   |   |--- feature_7 >  -1.50\n",
            "|   |   |   |   |   |--- class: 1\n",
            "|   |   |--- feature_5 >  -1.18\n",
            "|   |   |   |--- feature_7 <= 0.84\n",
            "|   |   |   |   |--- feature_7 <= -1.14\n",
            "|   |   |   |   |   |--- feature_5 <= 0.82\n",
            "|   |   |   |   |   |   |--- feature_5 <= -0.65\n",
            "|   |   |   |   |   |   |   |--- feature_7 <= -1.51\n",
            "|   |   |   |   |   |   |   |   |--- feature_7 <= -1.51\n",
            "|   |   |   |   |   |   |   |   |   |--- feature_6 <= -0.18\n",
            "|   |   |   |   |   |   |   |   |   |   |--- class: 0\n",
            "|   |   |   |   |   |   |   |   |   |--- feature_6 >  -0.18\n",
            "|   |   |   |   |   |   |   |   |   |   |--- feature_0 <= 0.44\n",
            "|   |   |   |   |   |   |   |   |   |   |   |--- class: 1\n",
            "|   |   |   |   |   |   |   |   |   |   |--- feature_0 >  0.44\n",
            "|   |   |   |   |   |   |   |   |   |   |   |--- class: 0\n",
            "|   |   |   |   |   |   |   |   |--- feature_7 >  -1.51\n",
            "|   |   |   |   |   |   |   |   |   |--- feature_5 <= -1.02\n",
            "|   |   |   |   |   |   |   |   |   |   |--- class: 1\n",
            "|   |   |   |   |   |   |   |   |   |--- feature_5 >  -1.02\n",
            "|   |   |   |   |   |   |   |   |   |   |--- feature_7 <= -1.51\n",
            "|   |   |   |   |   |   |   |   |   |   |   |--- class: 1\n",
            "|   |   |   |   |   |   |   |   |   |   |--- feature_7 >  -1.51\n",
            "|   |   |   |   |   |   |   |   |   |   |   |--- class: 0\n",
            "|   |   |   |   |   |   |   |--- feature_7 >  -1.51\n",
            "|   |   |   |   |   |   |   |   |--- feature_5 <= -0.73\n",
            "|   |   |   |   |   |   |   |   |   |--- feature_6 <= -0.18\n",
            "|   |   |   |   |   |   |   |   |   |   |--- feature_3 <= 0.92\n",
            "|   |   |   |   |   |   |   |   |   |   |   |--- truncated branch of depth 10\n",
            "|   |   |   |   |   |   |   |   |   |   |--- feature_3 >  0.92\n",
            "|   |   |   |   |   |   |   |   |   |   |   |--- truncated branch of depth 2\n",
            "|   |   |   |   |   |   |   |   |   |--- feature_6 >  -0.18\n",
            "|   |   |   |   |   |   |   |   |   |   |--- class: 0\n",
            "|   |   |   |   |   |   |   |   |--- feature_5 >  -0.73\n",
            "|   |   |   |   |   |   |   |   |   |--- feature_0 <= 0.44\n",
            "|   |   |   |   |   |   |   |   |   |   |--- feature_7 <= -1.39\n",
            "|   |   |   |   |   |   |   |   |   |   |   |--- truncated branch of depth 7\n",
            "|   |   |   |   |   |   |   |   |   |   |--- feature_7 >  -1.39\n",
            "|   |   |   |   |   |   |   |   |   |   |   |--- class: 1\n",
            "|   |   |   |   |   |   |   |   |   |--- feature_0 >  0.44\n",
            "|   |   |   |   |   |   |   |   |   |   |--- feature_7 <= -1.49\n",
            "|   |   |   |   |   |   |   |   |   |   |   |--- truncated branch of depth 2\n",
            "|   |   |   |   |   |   |   |   |   |   |--- feature_7 >  -1.49\n",
            "|   |   |   |   |   |   |   |   |   |   |   |--- class: 0\n",
            "|   |   |   |   |   |   |--- feature_5 >  -0.65\n",
            "|   |   |   |   |   |   |   |--- feature_5 <= -0.12\n",
            "|   |   |   |   |   |   |   |   |--- class: 0\n",
            "|   |   |   |   |   |   |   |--- feature_5 >  -0.12\n",
            "|   |   |   |   |   |   |   |   |--- feature_5 <= -0.04\n",
            "|   |   |   |   |   |   |   |   |   |--- feature_7 <= -1.48\n",
            "|   |   |   |   |   |   |   |   |   |   |--- class: 1\n",
            "|   |   |   |   |   |   |   |   |   |--- feature_7 >  -1.48\n",
            "|   |   |   |   |   |   |   |   |   |   |--- class: 0\n",
            "|   |   |   |   |   |   |   |   |--- feature_5 >  -0.04\n",
            "|   |   |   |   |   |   |   |   |   |--- class: 0\n",
            "|   |   |   |   |   |--- feature_5 >  0.82\n",
            "|   |   |   |   |   |   |--- class: 1\n",
            "|   |   |   |   |--- feature_7 >  -1.14\n",
            "|   |   |   |   |   |--- feature_5 <= 0.78\n",
            "|   |   |   |   |   |   |--- feature_7 <= -0.70\n",
            "|   |   |   |   |   |   |   |--- feature_3 <= 0.92\n",
            "|   |   |   |   |   |   |   |   |--- feature_2 <= 0.24\n",
            "|   |   |   |   |   |   |   |   |   |--- feature_7 <= -0.83\n",
            "|   |   |   |   |   |   |   |   |   |   |--- class: 0\n",
            "|   |   |   |   |   |   |   |   |   |--- feature_7 >  -0.83\n",
            "|   |   |   |   |   |   |   |   |   |   |--- feature_7 <= -0.81\n",
            "|   |   |   |   |   |   |   |   |   |   |   |--- class: 1\n",
            "|   |   |   |   |   |   |   |   |   |   |--- feature_7 >  -0.81\n",
            "|   |   |   |   |   |   |   |   |   |   |   |--- class: 0\n",
            "|   |   |   |   |   |   |   |   |--- feature_2 >  0.24\n",
            "|   |   |   |   |   |   |   |   |   |--- feature_6 <= -0.18\n",
            "|   |   |   |   |   |   |   |   |   |   |--- feature_7 <= -0.99\n",
            "|   |   |   |   |   |   |   |   |   |   |   |--- class: 0\n",
            "|   |   |   |   |   |   |   |   |   |   |--- feature_7 >  -0.99\n",
            "|   |   |   |   |   |   |   |   |   |   |   |--- truncated branch of depth 4\n",
            "|   |   |   |   |   |   |   |   |   |--- feature_6 >  -0.18\n",
            "|   |   |   |   |   |   |   |   |   |   |--- class: 1\n",
            "|   |   |   |   |   |   |   |--- feature_3 >  0.92\n",
            "|   |   |   |   |   |   |   |   |--- feature_5 <= 0.10\n",
            "|   |   |   |   |   |   |   |   |   |--- class: 1\n",
            "|   |   |   |   |   |   |   |   |--- feature_5 >  0.10\n",
            "|   |   |   |   |   |   |   |   |   |--- class: 0\n",
            "|   |   |   |   |   |   |--- feature_7 >  -0.70\n",
            "|   |   |   |   |   |   |   |--- feature_7 <= 0.23\n",
            "|   |   |   |   |   |   |   |   |--- feature_7 <= 0.02\n",
            "|   |   |   |   |   |   |   |   |   |--- feature_7 <= 0.02\n",
            "|   |   |   |   |   |   |   |   |   |   |--- feature_5 <= -1.02\n",
            "|   |   |   |   |   |   |   |   |   |   |   |--- truncated branch of depth 3\n",
            "|   |   |   |   |   |   |   |   |   |   |--- feature_5 >  -1.02\n",
            "|   |   |   |   |   |   |   |   |   |   |   |--- truncated branch of depth 10\n",
            "|   |   |   |   |   |   |   |   |   |--- feature_7 >  0.02\n",
            "|   |   |   |   |   |   |   |   |   |   |--- class: 1\n",
            "|   |   |   |   |   |   |   |   |--- feature_7 >  0.02\n",
            "|   |   |   |   |   |   |   |   |   |--- feature_5 <= -0.20\n",
            "|   |   |   |   |   |   |   |   |   |   |--- class: 0\n",
            "|   |   |   |   |   |   |   |   |   |--- feature_5 >  -0.20\n",
            "|   |   |   |   |   |   |   |   |   |   |--- feature_5 <= 0.04\n",
            "|   |   |   |   |   |   |   |   |   |   |   |--- truncated branch of depth 2\n",
            "|   |   |   |   |   |   |   |   |   |   |--- feature_5 >  0.04\n",
            "|   |   |   |   |   |   |   |   |   |   |   |--- class: 0\n",
            "|   |   |   |   |   |   |   |--- feature_7 >  0.23\n",
            "|   |   |   |   |   |   |   |   |--- feature_7 <= 0.29\n",
            "|   |   |   |   |   |   |   |   |   |--- feature_7 <= 0.27\n",
            "|   |   |   |   |   |   |   |   |   |   |--- feature_7 <= 0.25\n",
            "|   |   |   |   |   |   |   |   |   |   |   |--- class: 1\n",
            "|   |   |   |   |   |   |   |   |   |   |--- feature_7 >  0.25\n",
            "|   |   |   |   |   |   |   |   |   |   |   |--- class: 0\n",
            "|   |   |   |   |   |   |   |   |   |--- feature_7 >  0.27\n",
            "|   |   |   |   |   |   |   |   |   |   |--- class: 1\n",
            "|   |   |   |   |   |   |   |   |--- feature_7 >  0.29\n",
            "|   |   |   |   |   |   |   |   |   |--- feature_5 <= 0.74\n",
            "|   |   |   |   |   |   |   |   |   |   |--- feature_2 <= 0.24\n",
            "|   |   |   |   |   |   |   |   |   |   |   |--- truncated branch of depth 12\n",
            "|   |   |   |   |   |   |   |   |   |   |--- feature_2 >  0.24\n",
            "|   |   |   |   |   |   |   |   |   |   |   |--- truncated branch of depth 3\n",
            "|   |   |   |   |   |   |   |   |   |--- feature_5 >  0.74\n",
            "|   |   |   |   |   |   |   |   |   |   |--- class: 1\n",
            "|   |   |   |   |   |--- feature_5 >  0.78\n",
            "|   |   |   |   |   |   |--- class: 0\n",
            "|   |   |   |--- feature_7 >  0.84\n",
            "|   |   |   |   |--- feature_5 <= -0.14\n",
            "|   |   |   |   |   |--- feature_6 <= -0.18\n",
            "|   |   |   |   |   |   |--- feature_5 <= -0.65\n",
            "|   |   |   |   |   |   |   |--- feature_7 <= 1.28\n",
            "|   |   |   |   |   |   |   |   |--- class: 0\n",
            "|   |   |   |   |   |   |   |--- feature_7 >  1.28\n",
            "|   |   |   |   |   |   |   |   |--- class: 1\n",
            "|   |   |   |   |   |   |--- feature_5 >  -0.65\n",
            "|   |   |   |   |   |   |   |--- feature_7 <= 1.01\n",
            "|   |   |   |   |   |   |   |   |--- class: 1\n",
            "|   |   |   |   |   |   |   |--- feature_7 >  1.01\n",
            "|   |   |   |   |   |   |   |   |--- class: 0\n",
            "|   |   |   |   |   |--- feature_6 >  -0.18\n",
            "|   |   |   |   |   |   |--- feature_7 <= 1.32\n",
            "|   |   |   |   |   |   |   |--- feature_7 <= 1.06\n",
            "|   |   |   |   |   |   |   |   |--- feature_7 <= 1.05\n",
            "|   |   |   |   |   |   |   |   |   |--- feature_0 <= 0.44\n",
            "|   |   |   |   |   |   |   |   |   |   |--- feature_5 <= -0.47\n",
            "|   |   |   |   |   |   |   |   |   |   |   |--- class: 1\n",
            "|   |   |   |   |   |   |   |   |   |   |--- feature_5 >  -0.47\n",
            "|   |   |   |   |   |   |   |   |   |   |   |--- truncated branch of depth 3\n",
            "|   |   |   |   |   |   |   |   |   |--- feature_0 >  0.44\n",
            "|   |   |   |   |   |   |   |   |   |   |--- class: 0\n",
            "|   |   |   |   |   |   |   |   |--- feature_7 >  1.05\n",
            "|   |   |   |   |   |   |   |   |   |--- class: 0\n",
            "|   |   |   |   |   |   |   |--- feature_7 >  1.06\n",
            "|   |   |   |   |   |   |   |   |--- feature_7 <= 1.16\n",
            "|   |   |   |   |   |   |   |   |   |--- feature_7 <= 1.16\n",
            "|   |   |   |   |   |   |   |   |   |   |--- class: 1\n",
            "|   |   |   |   |   |   |   |   |   |--- feature_7 >  1.16\n",
            "|   |   |   |   |   |   |   |   |   |   |--- feature_5 <= -0.77\n",
            "|   |   |   |   |   |   |   |   |   |   |   |--- class: 1\n",
            "|   |   |   |   |   |   |   |   |   |   |--- feature_5 >  -0.77\n",
            "|   |   |   |   |   |   |   |   |   |   |   |--- class: 0\n",
            "|   |   |   |   |   |   |   |   |--- feature_7 >  1.16\n",
            "|   |   |   |   |   |   |   |   |   |--- class: 1\n",
            "|   |   |   |   |   |   |--- feature_7 >  1.32\n",
            "|   |   |   |   |   |   |   |--- feature_5 <= -0.79\n",
            "|   |   |   |   |   |   |   |   |--- class: 1\n",
            "|   |   |   |   |   |   |   |--- feature_5 >  -0.79\n",
            "|   |   |   |   |   |   |   |   |--- class: 0\n",
            "|   |   |   |   |--- feature_5 >  -0.14\n",
            "|   |   |   |   |   |--- feature_3 <= 0.92\n",
            "|   |   |   |   |   |   |--- feature_5 <= -0.04\n",
            "|   |   |   |   |   |   |   |--- class: 0\n",
            "|   |   |   |   |   |   |--- feature_5 >  -0.04\n",
            "|   |   |   |   |   |   |   |--- feature_5 <= 0.00\n",
            "|   |   |   |   |   |   |   |   |--- feature_7 <= 1.05\n",
            "|   |   |   |   |   |   |   |   |   |--- class: 0\n",
            "|   |   |   |   |   |   |   |   |--- feature_7 >  1.05\n",
            "|   |   |   |   |   |   |   |   |   |--- class: 1\n",
            "|   |   |   |   |   |   |   |--- feature_5 >  0.00\n",
            "|   |   |   |   |   |   |   |   |--- feature_5 <= 0.33\n",
            "|   |   |   |   |   |   |   |   |   |--- class: 0\n",
            "|   |   |   |   |   |   |   |   |--- feature_5 >  0.33\n",
            "|   |   |   |   |   |   |   |   |   |--- feature_7 <= 0.96\n",
            "|   |   |   |   |   |   |   |   |   |   |--- feature_6 <= -0.18\n",
            "|   |   |   |   |   |   |   |   |   |   |   |--- class: 0\n",
            "|   |   |   |   |   |   |   |   |   |   |--- feature_6 >  -0.18\n",
            "|   |   |   |   |   |   |   |   |   |   |   |--- class: 1\n",
            "|   |   |   |   |   |   |   |   |   |--- feature_7 >  0.96\n",
            "|   |   |   |   |   |   |   |   |   |   |--- feature_5 <= 0.41\n",
            "|   |   |   |   |   |   |   |   |   |   |   |--- truncated branch of depth 4\n",
            "|   |   |   |   |   |   |   |   |   |   |--- feature_5 >  0.41\n",
            "|   |   |   |   |   |   |   |   |   |   |   |--- truncated branch of depth 6\n",
            "|   |   |   |   |   |--- feature_3 >  0.92\n",
            "|   |   |   |   |   |   |--- feature_5 <= 0.86\n",
            "|   |   |   |   |   |   |   |--- feature_5 <= 0.12\n",
            "|   |   |   |   |   |   |   |   |--- feature_2 <= 0.24\n",
            "|   |   |   |   |   |   |   |   |   |--- class: 0\n",
            "|   |   |   |   |   |   |   |   |--- feature_2 >  0.24\n",
            "|   |   |   |   |   |   |   |   |   |--- feature_5 <= 0.00\n",
            "|   |   |   |   |   |   |   |   |   |   |--- class: 0\n",
            "|   |   |   |   |   |   |   |   |   |--- feature_5 >  0.00\n",
            "|   |   |   |   |   |   |   |   |   |   |--- class: 1\n",
            "|   |   |   |   |   |   |   |--- feature_5 >  0.12\n",
            "|   |   |   |   |   |   |   |   |--- feature_5 <= 0.67\n",
            "|   |   |   |   |   |   |   |   |   |--- class: 1\n",
            "|   |   |   |   |   |   |   |   |--- feature_5 >  0.67\n",
            "|   |   |   |   |   |   |   |   |   |--- feature_7 <= 1.37\n",
            "|   |   |   |   |   |   |   |   |   |   |--- class: 1\n",
            "|   |   |   |   |   |   |   |   |   |--- feature_7 >  1.37\n",
            "|   |   |   |   |   |   |   |   |   |   |--- class: 0\n",
            "|   |   |   |   |   |   |--- feature_5 >  0.86\n",
            "|   |   |   |   |   |   |   |--- feature_6 <= -0.18\n",
            "|   |   |   |   |   |   |   |   |--- feature_7 <= 1.16\n",
            "|   |   |   |   |   |   |   |   |   |--- class: 0\n",
            "|   |   |   |   |   |   |   |   |--- feature_7 >  1.16\n",
            "|   |   |   |   |   |   |   |   |   |--- class: 1\n",
            "|   |   |   |   |   |   |   |--- feature_6 >  -0.18\n",
            "|   |   |   |   |   |   |   |   |--- class: 0\n",
            "|--- feature_4 >  -0.23\n",
            "|   |--- feature_7 <= 0.96\n",
            "|   |   |--- feature_4 <= 0.97\n",
            "|   |   |   |--- feature_7 <= -0.19\n",
            "|   |   |   |   |--- feature_2 <= -0.34\n",
            "|   |   |   |   |   |--- feature_7 <= -1.34\n",
            "|   |   |   |   |   |   |--- class: 1\n",
            "|   |   |   |   |   |--- feature_7 >  -1.34\n",
            "|   |   |   |   |   |   |--- feature_6 <= -0.18\n",
            "|   |   |   |   |   |   |   |--- feature_7 <= -1.00\n",
            "|   |   |   |   |   |   |   |   |--- feature_7 <= -1.01\n",
            "|   |   |   |   |   |   |   |   |   |--- class: 0\n",
            "|   |   |   |   |   |   |   |   |--- feature_7 >  -1.01\n",
            "|   |   |   |   |   |   |   |   |   |--- class: 1\n",
            "|   |   |   |   |   |   |   |--- feature_7 >  -1.00\n",
            "|   |   |   |   |   |   |   |   |--- class: 0\n",
            "|   |   |   |   |   |   |--- feature_6 >  -0.18\n",
            "|   |   |   |   |   |   |   |--- feature_5 <= -0.37\n",
            "|   |   |   |   |   |   |   |   |--- feature_7 <= -0.54\n",
            "|   |   |   |   |   |   |   |   |   |--- feature_5 <= -0.94\n",
            "|   |   |   |   |   |   |   |   |   |   |--- class: 0\n",
            "|   |   |   |   |   |   |   |   |   |--- feature_5 >  -0.94\n",
            "|   |   |   |   |   |   |   |   |   |   |--- class: 1\n",
            "|   |   |   |   |   |   |   |   |--- feature_7 >  -0.54\n",
            "|   |   |   |   |   |   |   |   |   |--- class: 0\n",
            "|   |   |   |   |   |   |   |--- feature_5 >  -0.37\n",
            "|   |   |   |   |   |   |   |   |--- feature_5 <= 0.29\n",
            "|   |   |   |   |   |   |   |   |   |--- class: 0\n",
            "|   |   |   |   |   |   |   |   |--- feature_5 >  0.29\n",
            "|   |   |   |   |   |   |   |   |   |--- feature_5 <= 0.33\n",
            "|   |   |   |   |   |   |   |   |   |   |--- class: 1\n",
            "|   |   |   |   |   |   |   |   |   |--- feature_5 >  0.33\n",
            "|   |   |   |   |   |   |   |   |   |   |--- feature_7 <= -0.44\n",
            "|   |   |   |   |   |   |   |   |   |   |   |--- class: 0\n",
            "|   |   |   |   |   |   |   |   |   |   |--- feature_7 >  -0.44\n",
            "|   |   |   |   |   |   |   |   |   |   |   |--- truncated branch of depth 3\n",
            "|   |   |   |   |--- feature_2 >  -0.34\n",
            "|   |   |   |   |   |--- feature_5 <= -1.22\n",
            "|   |   |   |   |   |   |--- feature_7 <= -1.49\n",
            "|   |   |   |   |   |   |   |--- feature_5 <= -1.26\n",
            "|   |   |   |   |   |   |   |   |--- class: 0\n",
            "|   |   |   |   |   |   |   |--- feature_5 >  -1.26\n",
            "|   |   |   |   |   |   |   |   |--- class: 1\n",
            "|   |   |   |   |   |   |--- feature_7 >  -1.49\n",
            "|   |   |   |   |   |   |   |--- class: 0\n",
            "|   |   |   |   |   |--- feature_5 >  -1.22\n",
            "|   |   |   |   |   |   |--- feature_5 <= 0.49\n",
            "|   |   |   |   |   |   |   |--- feature_5 <= -0.28\n",
            "|   |   |   |   |   |   |   |   |--- feature_5 <= -0.33\n",
            "|   |   |   |   |   |   |   |   |   |--- feature_0 <= 0.44\n",
            "|   |   |   |   |   |   |   |   |   |   |--- class: 0\n",
            "|   |   |   |   |   |   |   |   |   |--- feature_0 >  0.44\n",
            "|   |   |   |   |   |   |   |   |   |   |--- feature_7 <= -1.48\n",
            "|   |   |   |   |   |   |   |   |   |   |   |--- truncated branch of depth 4\n",
            "|   |   |   |   |   |   |   |   |   |   |--- feature_7 >  -1.48\n",
            "|   |   |   |   |   |   |   |   |   |   |   |--- class: 0\n",
            "|   |   |   |   |   |   |   |   |--- feature_5 >  -0.33\n",
            "|   |   |   |   |   |   |   |   |   |--- feature_7 <= -1.38\n",
            "|   |   |   |   |   |   |   |   |   |   |--- class: 0\n",
            "|   |   |   |   |   |   |   |   |   |--- feature_7 >  -1.38\n",
            "|   |   |   |   |   |   |   |   |   |   |--- feature_7 <= -1.29\n",
            "|   |   |   |   |   |   |   |   |   |   |   |--- class: 1\n",
            "|   |   |   |   |   |   |   |   |   |   |--- feature_7 >  -1.29\n",
            "|   |   |   |   |   |   |   |   |   |   |   |--- class: 0\n",
            "|   |   |   |   |   |   |   |--- feature_5 >  -0.28\n",
            "|   |   |   |   |   |   |   |   |--- class: 0\n",
            "|   |   |   |   |   |   |--- feature_5 >  0.49\n",
            "|   |   |   |   |   |   |   |--- feature_5 <= 0.53\n",
            "|   |   |   |   |   |   |   |   |--- feature_6 <= -0.18\n",
            "|   |   |   |   |   |   |   |   |   |--- class: 0\n",
            "|   |   |   |   |   |   |   |   |--- feature_6 >  -0.18\n",
            "|   |   |   |   |   |   |   |   |   |--- class: 1\n",
            "|   |   |   |   |   |   |   |--- feature_5 >  0.53\n",
            "|   |   |   |   |   |   |   |   |--- feature_0 <= 0.44\n",
            "|   |   |   |   |   |   |   |   |   |--- feature_7 <= -1.32\n",
            "|   |   |   |   |   |   |   |   |   |   |--- feature_7 <= -1.33\n",
            "|   |   |   |   |   |   |   |   |   |   |   |--- truncated branch of depth 3\n",
            "|   |   |   |   |   |   |   |   |   |   |--- feature_7 >  -1.33\n",
            "|   |   |   |   |   |   |   |   |   |   |   |--- class: 1\n",
            "|   |   |   |   |   |   |   |   |   |--- feature_7 >  -1.32\n",
            "|   |   |   |   |   |   |   |   |   |   |--- class: 0\n",
            "|   |   |   |   |   |   |   |   |--- feature_0 >  0.44\n",
            "|   |   |   |   |   |   |   |   |   |--- class: 0\n",
            "|   |   |   |--- feature_7 >  -0.19\n",
            "|   |   |   |   |--- feature_5 <= 0.69\n",
            "|   |   |   |   |   |--- feature_3 <= 0.92\n",
            "|   |   |   |   |   |   |--- feature_5 <= -0.75\n",
            "|   |   |   |   |   |   |   |--- feature_5 <= -0.86\n",
            "|   |   |   |   |   |   |   |   |--- feature_5 <= -1.08\n",
            "|   |   |   |   |   |   |   |   |   |--- feature_5 <= -1.16\n",
            "|   |   |   |   |   |   |   |   |   |   |--- class: 0\n",
            "|   |   |   |   |   |   |   |   |   |--- feature_5 >  -1.16\n",
            "|   |   |   |   |   |   |   |   |   |   |--- class: 1\n",
            "|   |   |   |   |   |   |   |   |--- feature_5 >  -1.08\n",
            "|   |   |   |   |   |   |   |   |   |--- class: 0\n",
            "|   |   |   |   |   |   |   |--- feature_5 >  -0.86\n",
            "|   |   |   |   |   |   |   |   |--- feature_1 <= 0.25\n",
            "|   |   |   |   |   |   |   |   |   |--- class: 1\n",
            "|   |   |   |   |   |   |   |   |--- feature_1 >  0.25\n",
            "|   |   |   |   |   |   |   |   |   |--- class: 0\n",
            "|   |   |   |   |   |   |--- feature_5 >  -0.75\n",
            "|   |   |   |   |   |   |   |--- feature_5 <= 0.65\n",
            "|   |   |   |   |   |   |   |   |--- feature_7 <= 0.05\n",
            "|   |   |   |   |   |   |   |   |   |--- feature_5 <= 0.61\n",
            "|   |   |   |   |   |   |   |   |   |   |--- class: 0\n",
            "|   |   |   |   |   |   |   |   |   |--- feature_5 >  0.61\n",
            "|   |   |   |   |   |   |   |   |   |   |--- feature_7 <= -0.14\n",
            "|   |   |   |   |   |   |   |   |   |   |   |--- class: 1\n",
            "|   |   |   |   |   |   |   |   |   |   |--- feature_7 >  -0.14\n",
            "|   |   |   |   |   |   |   |   |   |   |   |--- class: 0\n",
            "|   |   |   |   |   |   |   |   |--- feature_7 >  0.05\n",
            "|   |   |   |   |   |   |   |   |   |--- feature_7 <= 0.09\n",
            "|   |   |   |   |   |   |   |   |   |   |--- class: 1\n",
            "|   |   |   |   |   |   |   |   |   |--- feature_7 >  0.09\n",
            "|   |   |   |   |   |   |   |   |   |   |--- feature_0 <= 0.44\n",
            "|   |   |   |   |   |   |   |   |   |   |   |--- truncated branch of depth 5\n",
            "|   |   |   |   |   |   |   |   |   |   |--- feature_0 >  0.44\n",
            "|   |   |   |   |   |   |   |   |   |   |   |--- truncated branch of depth 6\n",
            "|   |   |   |   |   |   |   |--- feature_5 >  0.65\n",
            "|   |   |   |   |   |   |   |   |--- feature_2 <= 0.24\n",
            "|   |   |   |   |   |   |   |   |   |--- class: 0\n",
            "|   |   |   |   |   |   |   |   |--- feature_2 >  0.24\n",
            "|   |   |   |   |   |   |   |   |   |--- class: 1\n",
            "|   |   |   |   |   |--- feature_3 >  0.92\n",
            "|   |   |   |   |   |   |--- feature_7 <= -0.04\n",
            "|   |   |   |   |   |   |   |--- class: 1\n",
            "|   |   |   |   |   |   |--- feature_7 >  -0.04\n",
            "|   |   |   |   |   |   |   |--- feature_7 <= 0.81\n",
            "|   |   |   |   |   |   |   |   |--- feature_7 <= 0.73\n",
            "|   |   |   |   |   |   |   |   |   |--- feature_7 <= 0.20\n",
            "|   |   |   |   |   |   |   |   |   |   |--- feature_7 <= 0.16\n",
            "|   |   |   |   |   |   |   |   |   |   |   |--- class: 0\n",
            "|   |   |   |   |   |   |   |   |   |   |--- feature_7 >  0.16\n",
            "|   |   |   |   |   |   |   |   |   |   |   |--- class: 1\n",
            "|   |   |   |   |   |   |   |   |   |--- feature_7 >  0.20\n",
            "|   |   |   |   |   |   |   |   |   |   |--- class: 0\n",
            "|   |   |   |   |   |   |   |   |--- feature_7 >  0.73\n",
            "|   |   |   |   |   |   |   |   |   |--- class: 1\n",
            "|   |   |   |   |   |   |   |--- feature_7 >  0.81\n",
            "|   |   |   |   |   |   |   |   |--- class: 0\n",
            "|   |   |   |   |--- feature_5 >  0.69\n",
            "|   |   |   |   |   |--- feature_7 <= -0.18\n",
            "|   |   |   |   |   |   |--- feature_6 <= -0.18\n",
            "|   |   |   |   |   |   |   |--- class: 1\n",
            "|   |   |   |   |   |   |--- feature_6 >  -0.18\n",
            "|   |   |   |   |   |   |   |--- class: 0\n",
            "|   |   |   |   |   |--- feature_7 >  -0.18\n",
            "|   |   |   |   |   |   |--- feature_5 <= 0.86\n",
            "|   |   |   |   |   |   |   |--- class: 0\n",
            "|   |   |   |   |   |   |--- feature_5 >  0.86\n",
            "|   |   |   |   |   |   |   |--- feature_5 <= 1.10\n",
            "|   |   |   |   |   |   |   |   |--- feature_6 <= -0.18\n",
            "|   |   |   |   |   |   |   |   |   |--- feature_7 <= 0.54\n",
            "|   |   |   |   |   |   |   |   |   |   |--- feature_7 <= -0.06\n",
            "|   |   |   |   |   |   |   |   |   |   |   |--- truncated branch of depth 2\n",
            "|   |   |   |   |   |   |   |   |   |   |--- feature_7 >  -0.06\n",
            "|   |   |   |   |   |   |   |   |   |   |   |--- class: 0\n",
            "|   |   |   |   |   |   |   |   |   |--- feature_7 >  0.54\n",
            "|   |   |   |   |   |   |   |   |   |   |--- feature_3 <= 0.92\n",
            "|   |   |   |   |   |   |   |   |   |   |   |--- truncated branch of depth 2\n",
            "|   |   |   |   |   |   |   |   |   |   |--- feature_3 >  0.92\n",
            "|   |   |   |   |   |   |   |   |   |   |   |--- class: 1\n",
            "|   |   |   |   |   |   |   |   |--- feature_6 >  -0.18\n",
            "|   |   |   |   |   |   |   |   |   |--- feature_0 <= 0.44\n",
            "|   |   |   |   |   |   |   |   |   |   |--- class: 0\n",
            "|   |   |   |   |   |   |   |   |   |--- feature_0 >  0.44\n",
            "|   |   |   |   |   |   |   |   |   |   |--- feature_5 <= 0.98\n",
            "|   |   |   |   |   |   |   |   |   |   |   |--- class: 0\n",
            "|   |   |   |   |   |   |   |   |   |   |--- feature_5 >  0.98\n",
            "|   |   |   |   |   |   |   |   |   |   |   |--- truncated branch of depth 2\n",
            "|   |   |   |   |   |   |   |--- feature_5 >  1.10\n",
            "|   |   |   |   |   |   |   |   |--- feature_5 <= 1.39\n",
            "|   |   |   |   |   |   |   |   |   |--- class: 0\n",
            "|   |   |   |   |   |   |   |   |--- feature_5 >  1.39\n",
            "|   |   |   |   |   |   |   |   |   |--- feature_7 <= 0.46\n",
            "|   |   |   |   |   |   |   |   |   |   |--- class: 0\n",
            "|   |   |   |   |   |   |   |   |   |--- feature_7 >  0.46\n",
            "|   |   |   |   |   |   |   |   |   |   |--- feature_7 <= 0.47\n",
            "|   |   |   |   |   |   |   |   |   |   |   |--- class: 1\n",
            "|   |   |   |   |   |   |   |   |   |   |--- feature_7 >  0.47\n",
            "|   |   |   |   |   |   |   |   |   |   |   |--- truncated branch of depth 3\n",
            "|   |   |--- feature_4 >  0.97\n",
            "|   |   |   |--- feature_2 <= -0.34\n",
            "|   |   |   |   |--- feature_5 <= 1.35\n",
            "|   |   |   |   |   |--- class: 0\n",
            "|   |   |   |   |--- feature_5 >  1.35\n",
            "|   |   |   |   |   |--- feature_7 <= -0.34\n",
            "|   |   |   |   |   |   |--- feature_1 <= 0.25\n",
            "|   |   |   |   |   |   |   |--- feature_5 <= 1.51\n",
            "|   |   |   |   |   |   |   |   |--- class: 0\n",
            "|   |   |   |   |   |   |   |--- feature_5 >  1.51\n",
            "|   |   |   |   |   |   |   |   |--- class: 1\n",
            "|   |   |   |   |   |   |--- feature_1 >  0.25\n",
            "|   |   |   |   |   |   |   |--- class: 0\n",
            "|   |   |   |   |   |--- feature_7 >  -0.34\n",
            "|   |   |   |   |   |   |--- feature_5 <= 1.43\n",
            "|   |   |   |   |   |   |   |--- feature_3 <= 0.92\n",
            "|   |   |   |   |   |   |   |   |--- feature_7 <= 0.43\n",
            "|   |   |   |   |   |   |   |   |   |--- class: 0\n",
            "|   |   |   |   |   |   |   |   |--- feature_7 >  0.43\n",
            "|   |   |   |   |   |   |   |   |   |--- feature_6 <= -0.18\n",
            "|   |   |   |   |   |   |   |   |   |   |--- class: 0\n",
            "|   |   |   |   |   |   |   |   |   |--- feature_6 >  -0.18\n",
            "|   |   |   |   |   |   |   |   |   |   |--- class: 1\n",
            "|   |   |   |   |   |   |   |--- feature_3 >  0.92\n",
            "|   |   |   |   |   |   |   |   |--- class: 1\n",
            "|   |   |   |   |   |   |--- feature_5 >  1.43\n",
            "|   |   |   |   |   |   |   |--- class: 0\n",
            "|   |   |   |--- feature_2 >  -0.34\n",
            "|   |   |   |   |--- feature_7 <= 0.34\n",
            "|   |   |   |   |   |--- feature_7 <= 0.33\n",
            "|   |   |   |   |   |   |--- feature_7 <= 0.02\n",
            "|   |   |   |   |   |   |   |--- feature_5 <= 1.10\n",
            "|   |   |   |   |   |   |   |   |--- feature_5 <= 1.06\n",
            "|   |   |   |   |   |   |   |   |   |--- feature_7 <= -1.34\n",
            "|   |   |   |   |   |   |   |   |   |   |--- class: 0\n",
            "|   |   |   |   |   |   |   |   |   |--- feature_7 >  -1.34\n",
            "|   |   |   |   |   |   |   |   |   |   |--- feature_7 <= -1.34\n",
            "|   |   |   |   |   |   |   |   |   |   |   |--- class: 1\n",
            "|   |   |   |   |   |   |   |   |   |   |--- feature_7 >  -1.34\n",
            "|   |   |   |   |   |   |   |   |   |   |   |--- truncated branch of depth 5\n",
            "|   |   |   |   |   |   |   |   |--- feature_5 >  1.06\n",
            "|   |   |   |   |   |   |   |   |   |--- feature_7 <= -1.51\n",
            "|   |   |   |   |   |   |   |   |   |   |--- feature_7 <= -1.53\n",
            "|   |   |   |   |   |   |   |   |   |   |   |--- class: 0\n",
            "|   |   |   |   |   |   |   |   |   |   |--- feature_7 >  -1.53\n",
            "|   |   |   |   |   |   |   |   |   |   |   |--- class: 1\n",
            "|   |   |   |   |   |   |   |   |   |--- feature_7 >  -1.51\n",
            "|   |   |   |   |   |   |   |   |   |   |--- class: 0\n",
            "|   |   |   |   |   |   |   |--- feature_5 >  1.10\n",
            "|   |   |   |   |   |   |   |   |--- class: 0\n",
            "|   |   |   |   |   |   |--- feature_7 >  0.02\n",
            "|   |   |   |   |   |   |   |--- feature_7 <= 0.02\n",
            "|   |   |   |   |   |   |   |   |--- class: 1\n",
            "|   |   |   |   |   |   |   |--- feature_7 >  0.02\n",
            "|   |   |   |   |   |   |   |   |--- feature_3 <= 0.92\n",
            "|   |   |   |   |   |   |   |   |   |--- class: 0\n",
            "|   |   |   |   |   |   |   |   |--- feature_3 >  0.92\n",
            "|   |   |   |   |   |   |   |   |   |--- feature_5 <= 1.14\n",
            "|   |   |   |   |   |   |   |   |   |   |--- class: 0\n",
            "|   |   |   |   |   |   |   |   |   |--- feature_5 >  1.14\n",
            "|   |   |   |   |   |   |   |   |   |   |--- feature_6 <= -0.18\n",
            "|   |   |   |   |   |   |   |   |   |   |   |--- class: 0\n",
            "|   |   |   |   |   |   |   |   |   |   |--- feature_6 >  -0.18\n",
            "|   |   |   |   |   |   |   |   |   |   |   |--- class: 1\n",
            "|   |   |   |   |   |--- feature_7 >  0.33\n",
            "|   |   |   |   |   |   |--- feature_5 <= 1.43\n",
            "|   |   |   |   |   |   |   |--- class: 1\n",
            "|   |   |   |   |   |   |--- feature_5 >  1.43\n",
            "|   |   |   |   |   |   |   |--- class: 0\n",
            "|   |   |   |   |--- feature_7 >  0.34\n",
            "|   |   |   |   |   |--- class: 0\n",
            "|   |--- feature_7 >  0.96\n",
            "|   |   |--- feature_4 <= 0.97\n",
            "|   |   |   |--- feature_7 <= 1.14\n",
            "|   |   |   |   |--- feature_5 <= 0.29\n",
            "|   |   |   |   |   |--- feature_5 <= 0.00\n",
            "|   |   |   |   |   |   |--- feature_7 <= 1.09\n",
            "|   |   |   |   |   |   |   |--- class: 0\n",
            "|   |   |   |   |   |   |--- feature_7 >  1.09\n",
            "|   |   |   |   |   |   |   |--- feature_5 <= -0.77\n",
            "|   |   |   |   |   |   |   |   |--- class: 0\n",
            "|   |   |   |   |   |   |   |--- feature_5 >  -0.77\n",
            "|   |   |   |   |   |   |   |   |--- class: 1\n",
            "|   |   |   |   |   |--- feature_5 >  0.00\n",
            "|   |   |   |   |   |   |--- feature_6 <= -0.18\n",
            "|   |   |   |   |   |   |   |--- class: 0\n",
            "|   |   |   |   |   |   |--- feature_6 >  -0.18\n",
            "|   |   |   |   |   |   |   |--- class: 1\n",
            "|   |   |   |   |--- feature_5 >  0.29\n",
            "|   |   |   |   |   |--- feature_5 <= 1.10\n",
            "|   |   |   |   |   |   |--- feature_7 <= 0.98\n",
            "|   |   |   |   |   |   |   |--- feature_7 <= 0.98\n",
            "|   |   |   |   |   |   |   |   |--- class: 0\n",
            "|   |   |   |   |   |   |   |--- feature_7 >  0.98\n",
            "|   |   |   |   |   |   |   |   |--- class: 1\n",
            "|   |   |   |   |   |   |--- feature_7 >  0.98\n",
            "|   |   |   |   |   |   |   |--- class: 0\n",
            "|   |   |   |   |   |--- feature_5 >  1.10\n",
            "|   |   |   |   |   |   |--- feature_7 <= 1.00\n",
            "|   |   |   |   |   |   |   |--- feature_7 <= 0.98\n",
            "|   |   |   |   |   |   |   |   |--- class: 0\n",
            "|   |   |   |   |   |   |   |--- feature_7 >  0.98\n",
            "|   |   |   |   |   |   |   |   |--- class: 1\n",
            "|   |   |   |   |   |   |--- feature_7 >  1.00\n",
            "|   |   |   |   |   |   |   |--- feature_7 <= 1.05\n",
            "|   |   |   |   |   |   |   |   |--- class: 0\n",
            "|   |   |   |   |   |   |   |--- feature_7 >  1.05\n",
            "|   |   |   |   |   |   |   |   |--- feature_7 <= 1.06\n",
            "|   |   |   |   |   |   |   |   |   |--- class: 1\n",
            "|   |   |   |   |   |   |   |   |--- feature_7 >  1.06\n",
            "|   |   |   |   |   |   |   |   |   |--- class: 0\n",
            "|   |   |   |--- feature_7 >  1.14\n",
            "|   |   |   |   |--- feature_7 <= 1.14\n",
            "|   |   |   |   |   |--- class: 1\n",
            "|   |   |   |   |--- feature_7 >  1.14\n",
            "|   |   |   |   |   |--- feature_7 <= 1.74\n",
            "|   |   |   |   |   |   |--- feature_5 <= 1.55\n",
            "|   |   |   |   |   |   |   |--- feature_7 <= 1.38\n",
            "|   |   |   |   |   |   |   |   |--- feature_7 <= 1.37\n",
            "|   |   |   |   |   |   |   |   |   |--- feature_5 <= 0.86\n",
            "|   |   |   |   |   |   |   |   |   |   |--- feature_0 <= 0.44\n",
            "|   |   |   |   |   |   |   |   |   |   |   |--- truncated branch of depth 6\n",
            "|   |   |   |   |   |   |   |   |   |   |--- feature_0 >  0.44\n",
            "|   |   |   |   |   |   |   |   |   |   |   |--- truncated branch of depth 7\n",
            "|   |   |   |   |   |   |   |   |   |--- feature_5 >  0.86\n",
            "|   |   |   |   |   |   |   |   |   |   |--- feature_5 <= 1.10\n",
            "|   |   |   |   |   |   |   |   |   |   |   |--- truncated branch of depth 9\n",
            "|   |   |   |   |   |   |   |   |   |   |--- feature_5 >  1.10\n",
            "|   |   |   |   |   |   |   |   |   |   |   |--- truncated branch of depth 9\n",
            "|   |   |   |   |   |   |   |   |--- feature_7 >  1.37\n",
            "|   |   |   |   |   |   |   |   |   |--- feature_2 <= 0.24\n",
            "|   |   |   |   |   |   |   |   |   |   |--- class: 1\n",
            "|   |   |   |   |   |   |   |   |   |--- feature_2 >  0.24\n",
            "|   |   |   |   |   |   |   |   |   |   |--- class: 0\n",
            "|   |   |   |   |   |   |   |--- feature_7 >  1.38\n",
            "|   |   |   |   |   |   |   |   |--- feature_5 <= 1.51\n",
            "|   |   |   |   |   |   |   |   |   |--- feature_5 <= 1.27\n",
            "|   |   |   |   |   |   |   |   |   |   |--- feature_5 <= 1.23\n",
            "|   |   |   |   |   |   |   |   |   |   |   |--- truncated branch of depth 7\n",
            "|   |   |   |   |   |   |   |   |   |   |--- feature_5 >  1.23\n",
            "|   |   |   |   |   |   |   |   |   |   |   |--- class: 1\n",
            "|   |   |   |   |   |   |   |   |   |--- feature_5 >  1.27\n",
            "|   |   |   |   |   |   |   |   |   |   |--- feature_6 <= -0.18\n",
            "|   |   |   |   |   |   |   |   |   |   |   |--- truncated branch of depth 2\n",
            "|   |   |   |   |   |   |   |   |   |   |--- feature_6 >  -0.18\n",
            "|   |   |   |   |   |   |   |   |   |   |   |--- class: 0\n",
            "|   |   |   |   |   |   |   |   |--- feature_5 >  1.51\n",
            "|   |   |   |   |   |   |   |   |   |--- feature_7 <= 1.46\n",
            "|   |   |   |   |   |   |   |   |   |   |--- class: 0\n",
            "|   |   |   |   |   |   |   |   |   |--- feature_7 >  1.46\n",
            "|   |   |   |   |   |   |   |   |   |   |--- class: 1\n",
            "|   |   |   |   |   |   |--- feature_5 >  1.55\n",
            "|   |   |   |   |   |   |   |--- feature_7 <= 1.47\n",
            "|   |   |   |   |   |   |   |   |--- class: 0\n",
            "|   |   |   |   |   |   |   |--- feature_7 >  1.47\n",
            "|   |   |   |   |   |   |   |   |--- feature_5 <= 1.59\n",
            "|   |   |   |   |   |   |   |   |   |--- class: 0\n",
            "|   |   |   |   |   |   |   |   |--- feature_5 >  1.59\n",
            "|   |   |   |   |   |   |   |   |   |--- class: 1\n",
            "|   |   |   |   |   |--- feature_7 >  1.74\n",
            "|   |   |   |   |   |   |--- feature_7 <= 1.78\n",
            "|   |   |   |   |   |   |   |--- class: 1\n",
            "|   |   |   |   |   |   |--- feature_7 >  1.78\n",
            "|   |   |   |   |   |   |   |--- class: 0\n",
            "|   |   |--- feature_4 >  0.97\n",
            "|   |   |   |--- feature_7 <= 0.97\n",
            "|   |   |   |   |--- class: 1\n",
            "|   |   |   |--- feature_7 >  0.97\n",
            "|   |   |   |   |--- feature_5 <= 1.18\n",
            "|   |   |   |   |   |--- feature_6 <= -0.18\n",
            "|   |   |   |   |   |   |--- feature_7 <= 1.48\n",
            "|   |   |   |   |   |   |   |--- class: 0\n",
            "|   |   |   |   |   |   |--- feature_7 >  1.48\n",
            "|   |   |   |   |   |   |   |--- feature_7 <= 1.53\n",
            "|   |   |   |   |   |   |   |   |--- class: 1\n",
            "|   |   |   |   |   |   |   |--- feature_7 >  1.53\n",
            "|   |   |   |   |   |   |   |   |--- class: 0\n",
            "|   |   |   |   |   |--- feature_6 >  -0.18\n",
            "|   |   |   |   |   |   |--- feature_5 <= 0.41\n",
            "|   |   |   |   |   |   |   |--- class: 0\n",
            "|   |   |   |   |   |   |--- feature_5 >  0.41\n",
            "|   |   |   |   |   |   |   |--- feature_5 <= 0.47\n",
            "|   |   |   |   |   |   |   |   |--- class: 1\n",
            "|   |   |   |   |   |   |   |--- feature_5 >  0.47\n",
            "|   |   |   |   |   |   |   |   |--- feature_3 <= 0.92\n",
            "|   |   |   |   |   |   |   |   |   |--- feature_7 <= 1.55\n",
            "|   |   |   |   |   |   |   |   |   |   |--- feature_7 <= 1.06\n",
            "|   |   |   |   |   |   |   |   |   |   |   |--- truncated branch of depth 2\n",
            "|   |   |   |   |   |   |   |   |   |   |--- feature_7 >  1.06\n",
            "|   |   |   |   |   |   |   |   |   |   |   |--- truncated branch of depth 5\n",
            "|   |   |   |   |   |   |   |   |   |--- feature_7 >  1.55\n",
            "|   |   |   |   |   |   |   |   |   |   |--- class: 1\n",
            "|   |   |   |   |   |   |   |   |--- feature_3 >  0.92\n",
            "|   |   |   |   |   |   |   |   |   |--- class: 0\n",
            "|   |   |   |   |--- feature_5 >  1.18\n",
            "|   |   |   |   |   |--- feature_5 <= 1.59\n",
            "|   |   |   |   |   |   |--- feature_7 <= 1.37\n",
            "|   |   |   |   |   |   |   |--- class: 0\n",
            "|   |   |   |   |   |   |--- feature_7 >  1.37\n",
            "|   |   |   |   |   |   |   |--- feature_7 <= 1.39\n",
            "|   |   |   |   |   |   |   |   |--- class: 1\n",
            "|   |   |   |   |   |   |   |--- feature_7 >  1.39\n",
            "|   |   |   |   |   |   |   |   |--- feature_7 <= 1.50\n",
            "|   |   |   |   |   |   |   |   |   |--- feature_7 <= 1.49\n",
            "|   |   |   |   |   |   |   |   |   |   |--- feature_5 <= 1.31\n",
            "|   |   |   |   |   |   |   |   |   |   |   |--- class: 0\n",
            "|   |   |   |   |   |   |   |   |   |   |--- feature_5 >  1.31\n",
            "|   |   |   |   |   |   |   |   |   |   |   |--- truncated branch of depth 4\n",
            "|   |   |   |   |   |   |   |   |   |--- feature_7 >  1.49\n",
            "|   |   |   |   |   |   |   |   |   |   |--- class: 1\n",
            "|   |   |   |   |   |   |   |   |--- feature_7 >  1.50\n",
            "|   |   |   |   |   |   |   |   |   |--- feature_7 <= 1.64\n",
            "|   |   |   |   |   |   |   |   |   |   |--- class: 0\n",
            "|   |   |   |   |   |   |   |   |   |--- feature_7 >  1.64\n",
            "|   |   |   |   |   |   |   |   |   |   |--- feature_7 <= 1.64\n",
            "|   |   |   |   |   |   |   |   |   |   |   |--- class: 1\n",
            "|   |   |   |   |   |   |   |   |   |   |--- feature_7 >  1.64\n",
            "|   |   |   |   |   |   |   |   |   |   |   |--- class: 0\n",
            "|   |   |   |   |   |--- feature_5 >  1.59\n",
            "|   |   |   |   |   |   |--- feature_7 <= 1.29\n",
            "|   |   |   |   |   |   |   |--- feature_7 <= 1.25\n",
            "|   |   |   |   |   |   |   |   |--- class: 0\n",
            "|   |   |   |   |   |   |   |--- feature_7 >  1.25\n",
            "|   |   |   |   |   |   |   |   |--- class: 1\n",
            "|   |   |   |   |   |   |--- feature_7 >  1.29\n",
            "|   |   |   |   |   |   |   |--- class: 0\n",
            "\n"
          ],
          "name": "stdout"
        }
      ]
    },
    {
      "cell_type": "markdown",
      "metadata": {
        "id": "rtjTF-iIOr-E",
        "colab_type": "text"
      },
      "source": [
        "Из-за большого количества признаков дерево получилось огромным!"
      ]
    },
    {
      "cell_type": "code",
      "metadata": {
        "id": "NZpa7JvLOyFf",
        "colab_type": "code",
        "colab": {
          "base_uri": "https://localhost:8080/",
          "height": 255
        },
        "outputId": "04444295-d1b7-4bca-fa31-25bfd19da1cf"
      },
      "source": [
        "dtc_pred = dtc.predict(x_test)\n",
        "\n",
        "all_scores(dtc_pred)"
      ],
      "execution_count": 20,
      "outputs": [
        {
          "output_type": "stream",
          "text": [
            "Roc auc score: 0.67\n",
            "Confusion matrix:\n",
            "[[732 151]\n",
            " [151 164]]\n",
            "Class report:\n",
            "              precision    recall  f1-score   support\n",
            "\n",
            "           0       0.83      0.83      0.83       883\n",
            "           1       0.52      0.52      0.52       315\n",
            "\n",
            "    accuracy                           0.75      1198\n",
            "   macro avg       0.67      0.67      0.67      1198\n",
            "weighted avg       0.75      0.75      0.75      1198\n",
            "\n"
          ],
          "name": "stdout"
        }
      ]
    },
    {
      "cell_type": "markdown",
      "metadata": {
        "id": "XO0d1SnWQ7a3",
        "colab_type": "text"
      },
      "source": [
        "Хорошая точность и очень сбалансированная матрица ошибок. Интересный результат."
      ]
    },
    {
      "cell_type": "markdown",
      "metadata": {
        "id": "PxUeLMT1PH4l",
        "colab_type": "text"
      },
      "source": [
        "Из оставшихся алгоритмов я не стал использовать логистическую регрессию, так как она выдаёт достойный результат на большом количестве данных."
      ]
    },
    {
      "cell_type": "markdown",
      "metadata": {
        "colab_type": "text",
        "id": "uyDpeHkTVYSf"
      },
      "source": [
        "# 4. Сравнение качества моделей "
      ]
    },
    {
      "cell_type": "markdown",
      "metadata": {
        "id": "PDesdqv2Gln2",
        "colab_type": "text"
      },
      "source": [
        "Проанализировав результаты всех 5 алгоритмов я отмеваю вариант кластеризации, так как там самая худшая оценка. Отлично показал себя SVM и DTC. Попробую подобрать наилучшие параметры для всех моделей, чтобы посмотреть насколько они улучшатся.\n",
        "\n",
        "Текущий топ по точности:\n",
        "1) SVM\n",
        "2) KNN\n",
        "3) DTC\n",
        "4) GNB"
      ]
    },
    {
      "cell_type": "code",
      "metadata": {
        "colab_type": "code",
        "id": "mryxTDJoVYSh",
        "colab": {
          "base_uri": "https://localhost:8080/",
          "height": 204
        },
        "outputId": "9fa7693d-5d10-4db9-a0fe-aa0a515d5df6"
      },
      "source": [
        "from sklearn.model_selection import GridSearchCV\n",
        "\n",
        "kn_param = {\n",
        "    'n_neighbors': [1, 3, 7, 9, 11],\n",
        "    'weights': ['uniform', 'distance'],\n",
        "    'p': [1, 3, 6, 10]\n",
        "}\n",
        "\n",
        "kn_grid = GridSearchCV(kn, kn_param)\n",
        "kn_grid.fit(x_train, y_train)"
      ],
      "execution_count": 21,
      "outputs": [
        {
          "output_type": "execute_result",
          "data": {
            "text/plain": [
              "GridSearchCV(cv=None, error_score=nan,\n",
              "             estimator=KNeighborsClassifier(algorithm='auto', leaf_size=30,\n",
              "                                            metric='minkowski',\n",
              "                                            metric_params=None, n_jobs=None,\n",
              "                                            n_neighbors=5, p=2,\n",
              "                                            weights='uniform'),\n",
              "             iid='deprecated', n_jobs=None,\n",
              "             param_grid={'n_neighbors': [1, 3, 7, 9, 11], 'p': [1, 3, 6, 10],\n",
              "                         'weights': ['uniform', 'distance']},\n",
              "             pre_dispatch='2*n_jobs', refit=True, return_train_score=False,\n",
              "             scoring=None, verbose=0)"
            ]
          },
          "metadata": {
            "tags": []
          },
          "execution_count": 21
        }
      ]
    },
    {
      "cell_type": "code",
      "metadata": {
        "id": "zaKbMgnXJUT8",
        "colab_type": "code",
        "colab": {
          "base_uri": "https://localhost:8080/",
          "height": 255
        },
        "outputId": "fb1fa0af-ffb0-49c2-add7-03e240735941"
      },
      "source": [
        "kn_grid_pred = kn_grid.predict(x_test)\n",
        "\n",
        "all_scores(kn_grid_pred)"
      ],
      "execution_count": 22,
      "outputs": [
        {
          "output_type": "stream",
          "text": [
            "Roc auc score: 0.69\n",
            "Confusion matrix:\n",
            "[[791  92]\n",
            " [165 150]]\n",
            "Class report:\n",
            "              precision    recall  f1-score   support\n",
            "\n",
            "           0       0.83      0.90      0.86       883\n",
            "           1       0.62      0.48      0.54       315\n",
            "\n",
            "    accuracy                           0.79      1198\n",
            "   macro avg       0.72      0.69      0.70      1198\n",
            "weighted avg       0.77      0.79      0.78      1198\n",
            "\n"
          ],
          "name": "stdout"
        }
      ]
    },
    {
      "cell_type": "markdown",
      "metadata": {
        "id": "EZlSXQmjJvjr",
        "colab_type": "text"
      },
      "source": [
        "Не очень большая прибавка к точности."
      ]
    },
    {
      "cell_type": "code",
      "metadata": {
        "id": "IRqpof_WJzUT",
        "colab_type": "code",
        "colab": {
          "base_uri": "https://localhost:8080/",
          "height": 238
        },
        "outputId": "09e99768-bf56-41b4-d0ac-d919831393dc"
      },
      "source": [
        "sc_param = {\n",
        "    'C': [0.01, 0.05, 0.1, 1],\n",
        "    'kernel': ['linear', 'poly', 'rbf'],\n",
        "    'gamma': [0.1, 0.5, 'scale']\n",
        "}\n",
        "\n",
        "sc_grid = GridSearchCV(sc, sc_param)\n",
        "sc_grid.fit(x_train, y_train)"
      ],
      "execution_count": 23,
      "outputs": [
        {
          "output_type": "execute_result",
          "data": {
            "text/plain": [
              "GridSearchCV(cv=None, error_score=nan,\n",
              "             estimator=SVC(C=1.0, break_ties=False, cache_size=200,\n",
              "                           class_weight=None, coef0=0.0,\n",
              "                           decision_function_shape='ovr', degree=3,\n",
              "                           gamma='scale', kernel='rbf', max_iter=-1,\n",
              "                           probability=False, random_state=None, shrinking=True,\n",
              "                           tol=0.001, verbose=False),\n",
              "             iid='deprecated', n_jobs=None,\n",
              "             param_grid={'C': [0.01, 0.05, 0.1, 1],\n",
              "                         'gamma': [0.1, 0.5, 'scale'],\n",
              "                         'kernel': ['linear', 'poly', 'rbf']},\n",
              "             pre_dispatch='2*n_jobs', refit=True, return_train_score=False,\n",
              "             scoring=None, verbose=0)"
            ]
          },
          "metadata": {
            "tags": []
          },
          "execution_count": 23
        }
      ]
    },
    {
      "cell_type": "code",
      "metadata": {
        "id": "me3nKBp_K1Iy",
        "colab_type": "code",
        "colab": {
          "base_uri": "https://localhost:8080/",
          "height": 255
        },
        "outputId": "58e6ecc9-3536-406c-8d4e-742e9eb4e6a6"
      },
      "source": [
        "sc_grid_pred = sc_grid.predict(x_test)\n",
        "\n",
        "all_scores(sc_grid_pred)"
      ],
      "execution_count": 24,
      "outputs": [
        {
          "output_type": "stream",
          "text": [
            "Roc auc score: 0.68\n",
            "Confusion matrix:\n",
            "[[812  71]\n",
            " [174 141]]\n",
            "Class report:\n",
            "              precision    recall  f1-score   support\n",
            "\n",
            "           0       0.82      0.92      0.87       883\n",
            "           1       0.67      0.45      0.54       315\n",
            "\n",
            "    accuracy                           0.80      1198\n",
            "   macro avg       0.74      0.68      0.70      1198\n",
            "weighted avg       0.78      0.80      0.78      1198\n",
            "\n"
          ],
          "name": "stdout"
        }
      ]
    },
    {
      "cell_type": "markdown",
      "metadata": {
        "id": "ytb-inZULDx6",
        "colab_type": "text"
      },
      "source": [
        "Совсем не увеличилась точность."
      ]
    },
    {
      "cell_type": "code",
      "metadata": {
        "id": "VQtHjEAGLHDL",
        "colab_type": "code",
        "colab": {
          "base_uri": "https://localhost:8080/",
          "height": 289
        },
        "outputId": "db2641f1-b81e-4c49-f191-e95957b90548"
      },
      "source": [
        "dtc_param = {\n",
        "    'max_depth': [1, 3, 5, 7, 9]\n",
        "}\n",
        "\n",
        "dtc_grid = GridSearchCV(dtc, dtc_param)\n",
        "dtc_grid.fit(x_train, y_train)"
      ],
      "execution_count": 25,
      "outputs": [
        {
          "output_type": "execute_result",
          "data": {
            "text/plain": [
              "GridSearchCV(cv=None, error_score=nan,\n",
              "             estimator=DecisionTreeClassifier(ccp_alpha=0.0, class_weight=None,\n",
              "                                              criterion='gini', max_depth=None,\n",
              "                                              max_features=None,\n",
              "                                              max_leaf_nodes=None,\n",
              "                                              min_impurity_decrease=0.0,\n",
              "                                              min_impurity_split=None,\n",
              "                                              min_samples_leaf=1,\n",
              "                                              min_samples_split=2,\n",
              "                                              min_weight_fraction_leaf=0.0,\n",
              "                                              presort='deprecated',\n",
              "                                              random_state=None,\n",
              "                                              splitter='best'),\n",
              "             iid='deprecated', n_jobs=None,\n",
              "             param_grid={'max_depth': [1, 3, 5, 7, 9]}, pre_dispatch='2*n_jobs',\n",
              "             refit=True, return_train_score=False, scoring=None, verbose=0)"
            ]
          },
          "metadata": {
            "tags": []
          },
          "execution_count": 25
        }
      ]
    },
    {
      "cell_type": "code",
      "metadata": {
        "id": "jUHrStwvMgcj",
        "colab_type": "code",
        "colab": {
          "base_uri": "https://localhost:8080/",
          "height": 255
        },
        "outputId": "67968d76-38ce-4a86-e399-00aafbf6c8b3"
      },
      "source": [
        "dtc_grid_pred = dtc_grid.predict(x_test)\n",
        "\n",
        "all_scores(dtc_grid_pred)"
      ],
      "execution_count": 26,
      "outputs": [
        {
          "output_type": "stream",
          "text": [
            "Roc auc score: 0.67\n",
            "Confusion matrix:\n",
            "[[821  62]\n",
            " [184 131]]\n",
            "Class report:\n",
            "              precision    recall  f1-score   support\n",
            "\n",
            "           0       0.82      0.93      0.87       883\n",
            "           1       0.68      0.42      0.52       315\n",
            "\n",
            "    accuracy                           0.79      1198\n",
            "   macro avg       0.75      0.67      0.69      1198\n",
            "weighted avg       0.78      0.79      0.78      1198\n",
            "\n"
          ],
          "name": "stdout"
        }
      ]
    },
    {
      "cell_type": "markdown",
      "metadata": {
        "id": "AZxsiSwkM6bi",
        "colab_type": "text"
      },
      "source": [
        "Хорошее увеличение точности.\n",
        "В итоге только 2 модели получилось с самыми достойными результатами: SVM и DTC.\n",
        " "
      ]
    },
    {
      "cell_type": "code",
      "metadata": {
        "id": "yvjRAurmNJLn",
        "colab_type": "code",
        "colab": {
          "base_uri": "https://localhost:8080/",
          "height": 255
        },
        "outputId": "2e9d2fb4-3d23-4afd-e415-148ffe6068a6"
      },
      "source": [
        "all_scores(sc_grid_pred)"
      ],
      "execution_count": 27,
      "outputs": [
        {
          "output_type": "stream",
          "text": [
            "Roc auc score: 0.68\n",
            "Confusion matrix:\n",
            "[[812  71]\n",
            " [174 141]]\n",
            "Class report:\n",
            "              precision    recall  f1-score   support\n",
            "\n",
            "           0       0.82      0.92      0.87       883\n",
            "           1       0.67      0.45      0.54       315\n",
            "\n",
            "    accuracy                           0.80      1198\n",
            "   macro avg       0.74      0.68      0.70      1198\n",
            "weighted avg       0.78      0.80      0.78      1198\n",
            "\n"
          ],
          "name": "stdout"
        }
      ]
    },
    {
      "cell_type": "code",
      "metadata": {
        "id": "QWc6IMO_NNh3",
        "colab_type": "code",
        "colab": {
          "base_uri": "https://localhost:8080/",
          "height": 255
        },
        "outputId": "4c6daa57-189e-499d-d98a-62b909c5cc2e"
      },
      "source": [
        "all_scores(dtc_grid_pred)"
      ],
      "execution_count": 28,
      "outputs": [
        {
          "output_type": "stream",
          "text": [
            "Roc auc score: 0.67\n",
            "Confusion matrix:\n",
            "[[821  62]\n",
            " [184 131]]\n",
            "Class report:\n",
            "              precision    recall  f1-score   support\n",
            "\n",
            "           0       0.82      0.93      0.87       883\n",
            "           1       0.68      0.42      0.52       315\n",
            "\n",
            "    accuracy                           0.79      1198\n",
            "   macro avg       0.75      0.67      0.69      1198\n",
            "weighted avg       0.78      0.79      0.78      1198\n",
            "\n"
          ],
          "name": "stdout"
        }
      ]
    },
    {
      "cell_type": "markdown",
      "metadata": {
        "id": "O48TL0WINQpJ",
        "colab_type": "text"
      },
      "source": [
        "SVM немного лучше по точности. Показатель Recall для обоих классов достаточно высок.\n",
        "У DTC Precision чуть лучше, также модель легко интерпритируется. По сравнению с SVM количество FP сильно ощущается.\n",
        "Обе модели достойно справляются с задачей классификации оттока клиентов.\n",
        "Дополнительно можно воспользоваться PCA для всех признаков, предварительно их стадратизировав и ещё раз проверить точность этих и других моделей."
      ]
    }
  ]
}